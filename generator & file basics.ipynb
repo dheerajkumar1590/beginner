{
 "cells": [
  {
   "cell_type": "code",
   "execution_count": 1,
   "id": "b9ff6441",
   "metadata": {},
   "outputs": [],
   "source": [
    "l=[1,2,3,4]"
   ]
  },
  {
   "cell_type": "code",
   "execution_count": 5,
   "id": "000006de",
   "metadata": {},
   "outputs": [],
   "source": [
    "l=iter(l)"
   ]
  },
  {
   "cell_type": "code",
   "execution_count": 6,
   "id": "192a7380",
   "metadata": {},
   "outputs": [
    {
     "data": {
      "text/plain": [
       "1"
      ]
     },
     "execution_count": 6,
     "metadata": {},
     "output_type": "execute_result"
    }
   ],
   "source": [
    "next(l)"
   ]
  },
  {
   "cell_type": "code",
   "execution_count": 7,
   "id": "b29ac69c",
   "metadata": {},
   "outputs": [
    {
     "data": {
      "text/plain": [
       "2"
      ]
     },
     "execution_count": 7,
     "metadata": {},
     "output_type": "execute_result"
    }
   ],
   "source": [
    "next(l)"
   ]
  },
  {
   "cell_type": "code",
   "execution_count": 8,
   "id": "369c3882",
   "metadata": {},
   "outputs": [
    {
     "data": {
      "text/plain": [
       "3"
      ]
     },
     "execution_count": 8,
     "metadata": {},
     "output_type": "execute_result"
    }
   ],
   "source": [
    "next(l)"
   ]
  },
  {
   "cell_type": "code",
   "execution_count": 9,
   "id": "95469259",
   "metadata": {},
   "outputs": [
    {
     "data": {
      "text/plain": [
       "4"
      ]
     },
     "execution_count": 9,
     "metadata": {},
     "output_type": "execute_result"
    }
   ],
   "source": [
    "next(l)"
   ]
  },
  {
   "cell_type": "code",
   "execution_count": 10,
   "id": "d8bf32a6",
   "metadata": {},
   "outputs": [
    {
     "ename": "StopIteration",
     "evalue": "",
     "output_type": "error",
     "traceback": [
      "\u001b[0;31m---------------------------------------------------------------------------\u001b[0m",
      "\u001b[0;31mStopIteration\u001b[0m                             Traceback (most recent call last)",
      "Input \u001b[0;32mIn [10]\u001b[0m, in \u001b[0;36m<cell line: 1>\u001b[0;34m()\u001b[0m\n\u001b[0;32m----> 1\u001b[0m \u001b[38;5;28;43mnext\u001b[39;49m\u001b[43m(\u001b[49m\u001b[43ml\u001b[49m\u001b[43m)\u001b[49m\n",
      "\u001b[0;31mStopIteration\u001b[0m: "
     ]
    }
   ],
   "source": [
    "next(l)"
   ]
  },
  {
   "cell_type": "code",
   "execution_count": 11,
   "id": "38fb0310",
   "metadata": {},
   "outputs": [],
   "source": [
    "a=56"
   ]
  },
  {
   "cell_type": "code",
   "execution_count": 12,
   "id": "dff8a717",
   "metadata": {},
   "outputs": [
    {
     "ename": "TypeError",
     "evalue": "'int' object is not an iterator",
     "output_type": "error",
     "traceback": [
      "\u001b[0;31m---------------------------------------------------------------------------\u001b[0m",
      "\u001b[0;31mTypeError\u001b[0m                                 Traceback (most recent call last)",
      "Input \u001b[0;32mIn [12]\u001b[0m, in \u001b[0;36m<cell line: 1>\u001b[0;34m()\u001b[0m\n\u001b[0;32m----> 1\u001b[0m \u001b[38;5;28;43mnext\u001b[39;49m\u001b[43m(\u001b[49m\u001b[43ma\u001b[49m\u001b[43m)\u001b[49m\n",
      "\u001b[0;31mTypeError\u001b[0m: 'int' object is not an iterator"
     ]
    }
   ],
   "source": [
    "next(a)"
   ]
  },
  {
   "cell_type": "code",
   "execution_count": 13,
   "id": "9aa1e5f0",
   "metadata": {},
   "outputs": [
    {
     "ename": "TypeError",
     "evalue": "'int' object is not iterable",
     "output_type": "error",
     "traceback": [
      "\u001b[0;31m---------------------------------------------------------------------------\u001b[0m",
      "\u001b[0;31mTypeError\u001b[0m                                 Traceback (most recent call last)",
      "Input \u001b[0;32mIn [13]\u001b[0m, in \u001b[0;36m<cell line: 1>\u001b[0;34m()\u001b[0m\n\u001b[0;32m----> 1\u001b[0m a\u001b[38;5;241m=\u001b[39m\u001b[38;5;28;43miter\u001b[39;49m\u001b[43m(\u001b[49m\u001b[43ma\u001b[49m\u001b[43m)\u001b[49m\n",
      "\u001b[0;31mTypeError\u001b[0m: 'int' object is not iterable"
     ]
    }
   ],
   "source": [
    "a=iter(a)"
   ]
  },
  {
   "cell_type": "code",
   "execution_count": 14,
   "id": "c7feb91d",
   "metadata": {},
   "outputs": [],
   "source": [
    "b=(1,2,3,4)"
   ]
  },
  {
   "cell_type": "code",
   "execution_count": 15,
   "id": "3aa2fca2",
   "metadata": {},
   "outputs": [
    {
     "ename": "TypeError",
     "evalue": "'tuple' object is not an iterator",
     "output_type": "error",
     "traceback": [
      "\u001b[0;31m---------------------------------------------------------------------------\u001b[0m",
      "\u001b[0;31mTypeError\u001b[0m                                 Traceback (most recent call last)",
      "Input \u001b[0;32mIn [15]\u001b[0m, in \u001b[0;36m<cell line: 1>\u001b[0;34m()\u001b[0m\n\u001b[0;32m----> 1\u001b[0m \u001b[38;5;28;43mnext\u001b[39;49m\u001b[43m(\u001b[49m\u001b[43mb\u001b[49m\u001b[43m)\u001b[49m\n",
      "\u001b[0;31mTypeError\u001b[0m: 'tuple' object is not an iterator"
     ]
    }
   ],
   "source": [
    "next(b)"
   ]
  },
  {
   "cell_type": "code",
   "execution_count": 17,
   "id": "d9169608",
   "metadata": {},
   "outputs": [],
   "source": [
    "b=iter(b)"
   ]
  },
  {
   "cell_type": "code",
   "execution_count": 19,
   "id": "b0d5bde9",
   "metadata": {},
   "outputs": [
    {
     "data": {
      "text/plain": [
       "2"
      ]
     },
     "execution_count": 19,
     "metadata": {},
     "output_type": "execute_result"
    }
   ],
   "source": [
    "next(b)"
   ]
  },
  {
   "cell_type": "code",
   "execution_count": 20,
   "id": "ffc98727",
   "metadata": {},
   "outputs": [
    {
     "data": {
      "text/plain": [
       "3"
      ]
     },
     "execution_count": 20,
     "metadata": {},
     "output_type": "execute_result"
    }
   ],
   "source": [
    "next(b)"
   ]
  },
  {
   "cell_type": "code",
   "execution_count": 21,
   "id": "d4a1aff7",
   "metadata": {},
   "outputs": [
    {
     "data": {
      "text/plain": [
       "4"
      ]
     },
     "execution_count": 21,
     "metadata": {},
     "output_type": "execute_result"
    }
   ],
   "source": [
    "next(b)"
   ]
  },
  {
   "cell_type": "code",
   "execution_count": 22,
   "id": "4c17ef57",
   "metadata": {},
   "outputs": [
    {
     "ename": "StopIteration",
     "evalue": "",
     "output_type": "error",
     "traceback": [
      "\u001b[0;31m---------------------------------------------------------------------------\u001b[0m",
      "\u001b[0;31mStopIteration\u001b[0m                             Traceback (most recent call last)",
      "Input \u001b[0;32mIn [22]\u001b[0m, in \u001b[0;36m<cell line: 1>\u001b[0;34m()\u001b[0m\n\u001b[0;32m----> 1\u001b[0m \u001b[38;5;28;43mnext\u001b[39;49m\u001b[43m(\u001b[49m\u001b[43mb\u001b[49m\u001b[43m)\u001b[49m\n",
      "\u001b[0;31mStopIteration\u001b[0m: "
     ]
    }
   ],
   "source": [
    "next(b)"
   ]
  },
  {
   "cell_type": "code",
   "execution_count": 24,
   "id": "247afe64",
   "metadata": {},
   "outputs": [],
   "source": [
    "r=range(6)"
   ]
  },
  {
   "cell_type": "code",
   "execution_count": 26,
   "id": "b2bca64c",
   "metadata": {},
   "outputs": [
    {
     "ename": "TypeError",
     "evalue": "'range' object is not an iterator",
     "output_type": "error",
     "traceback": [
      "\u001b[0;31m---------------------------------------------------------------------------\u001b[0m",
      "\u001b[0;31mTypeError\u001b[0m                                 Traceback (most recent call last)",
      "Input \u001b[0;32mIn [26]\u001b[0m, in \u001b[0;36m<cell line: 1>\u001b[0;34m()\u001b[0m\n\u001b[0;32m----> 1\u001b[0m \u001b[38;5;28;43mnext\u001b[39;49m\u001b[43m(\u001b[49m\u001b[43mr\u001b[49m\u001b[43m)\u001b[49m\n",
      "\u001b[0;31mTypeError\u001b[0m: 'range' object is not an iterator"
     ]
    }
   ],
   "source": [
    "next(r)"
   ]
  },
  {
   "cell_type": "code",
   "execution_count": 28,
   "id": "7227dff5",
   "metadata": {},
   "outputs": [],
   "source": [
    "r=iter(r)"
   ]
  },
  {
   "cell_type": "code",
   "execution_count": 29,
   "id": "ef1e0296",
   "metadata": {},
   "outputs": [
    {
     "data": {
      "text/plain": [
       "0"
      ]
     },
     "execution_count": 29,
     "metadata": {},
     "output_type": "execute_result"
    }
   ],
   "source": [
    "next(r)"
   ]
  },
  {
   "cell_type": "code",
   "execution_count": 30,
   "id": "612de498",
   "metadata": {},
   "outputs": [
    {
     "data": {
      "text/plain": [
       "1"
      ]
     },
     "execution_count": 30,
     "metadata": {},
     "output_type": "execute_result"
    }
   ],
   "source": [
    "next(r)"
   ]
  },
  {
   "cell_type": "code",
   "execution_count": 31,
   "id": "f5da9b03",
   "metadata": {},
   "outputs": [
    {
     "data": {
      "text/plain": [
       "2"
      ]
     },
     "execution_count": 31,
     "metadata": {},
     "output_type": "execute_result"
    }
   ],
   "source": [
    "next(r)"
   ]
  },
  {
   "cell_type": "code",
   "execution_count": 32,
   "id": "d1b6cd32",
   "metadata": {},
   "outputs": [
    {
     "data": {
      "text/plain": [
       "3"
      ]
     },
     "execution_count": 32,
     "metadata": {},
     "output_type": "execute_result"
    }
   ],
   "source": [
    "next(r)"
   ]
  },
  {
   "cell_type": "code",
   "execution_count": 33,
   "id": "2c1d43a8",
   "metadata": {},
   "outputs": [
    {
     "data": {
      "text/plain": [
       "4"
      ]
     },
     "execution_count": 33,
     "metadata": {},
     "output_type": "execute_result"
    }
   ],
   "source": [
    "next(r)"
   ]
  },
  {
   "cell_type": "code",
   "execution_count": 34,
   "id": "16a3f296",
   "metadata": {},
   "outputs": [
    {
     "data": {
      "text/plain": [
       "range(0, 45)"
      ]
     },
     "execution_count": 34,
     "metadata": {},
     "output_type": "execute_result"
    }
   ],
   "source": [
    "\"\"\"Generator : kind of object to hold the info of prevous data set which you have generated and the logic of the data set so that u can generate another data of same logic\"\"\" \n",
    "range(45)"
   ]
  },
  {
   "cell_type": "code",
   "execution_count": 36,
   "id": "0f61b846",
   "metadata": {},
   "outputs": [
    {
     "data": {
      "text/plain": [
       "[0, 3, 6, 9, 12, 15, 18, 21, 24, 27, 30, 33, 36, 39, 42]"
      ]
     },
     "execution_count": 36,
     "metadata": {},
     "output_type": "execute_result"
    }
   ],
   "source": [
    "list(range(0,45,3))"
   ]
  },
  {
   "cell_type": "code",
   "execution_count": 40,
   "id": "23c6ea1d",
   "metadata": {},
   "outputs": [],
   "source": [
    "def cube(n):\n",
    "        return n**3"
   ]
  },
  {
   "cell_type": "code",
   "execution_count": 41,
   "id": "bb2d566c",
   "metadata": {},
   "outputs": [
    {
     "data": {
      "text/plain": [
       "27"
      ]
     },
     "execution_count": 41,
     "metadata": {},
     "output_type": "execute_result"
    }
   ],
   "source": [
    "cube(3)"
   ]
  },
  {
   "cell_type": "code",
   "execution_count": 42,
   "id": "8aee7ac9",
   "metadata": {},
   "outputs": [
    {
     "data": {
      "text/plain": [
       "216"
      ]
     },
     "execution_count": 42,
     "metadata": {},
     "output_type": "execute_result"
    }
   ],
   "source": [
    "cube(6)"
   ]
  },
  {
   "cell_type": "code",
   "execution_count": 45,
   "id": "974b8028",
   "metadata": {},
   "outputs": [],
   "source": [
    "def cube1(n):\n",
    "    l=[]\n",
    "    for i in range(n):\n",
    "        l=l.append(i**3)\n",
    "    return l"
   ]
  },
  {
   "cell_type": "code",
   "execution_count": 46,
   "id": "e2713cdc",
   "metadata": {},
   "outputs": [
    {
     "ename": "AttributeError",
     "evalue": "'NoneType' object has no attribute 'append'",
     "output_type": "error",
     "traceback": [
      "\u001b[0;31m---------------------------------------------------------------------------\u001b[0m",
      "\u001b[0;31mAttributeError\u001b[0m                            Traceback (most recent call last)",
      "Input \u001b[0;32mIn [46]\u001b[0m, in \u001b[0;36m<cell line: 1>\u001b[0;34m()\u001b[0m\n\u001b[0;32m----> 1\u001b[0m \u001b[43mcube1\u001b[49m\u001b[43m(\u001b[49m\u001b[38;5;241;43m6\u001b[39;49m\u001b[43m)\u001b[49m\n",
      "Input \u001b[0;32mIn [45]\u001b[0m, in \u001b[0;36mcube1\u001b[0;34m(n)\u001b[0m\n\u001b[1;32m      2\u001b[0m l\u001b[38;5;241m=\u001b[39m[]\n\u001b[1;32m      3\u001b[0m \u001b[38;5;28;01mfor\u001b[39;00m i \u001b[38;5;129;01min\u001b[39;00m \u001b[38;5;28mrange\u001b[39m(n):\n\u001b[0;32m----> 4\u001b[0m     l\u001b[38;5;241m=\u001b[39m\u001b[43ml\u001b[49m\u001b[38;5;241;43m.\u001b[39;49m\u001b[43mappend\u001b[49m(i\u001b[38;5;241m*\u001b[39m\u001b[38;5;241m*\u001b[39m\u001b[38;5;241m3\u001b[39m)\n\u001b[1;32m      5\u001b[0m \u001b[38;5;28;01mreturn\u001b[39;00m l\n",
      "\u001b[0;31mAttributeError\u001b[0m: 'NoneType' object has no attribute 'append'"
     ]
    }
   ],
   "source": [
    "cube1(6)"
   ]
  },
  {
   "cell_type": "code",
   "execution_count": 1,
   "id": "05b62b5b",
   "metadata": {},
   "outputs": [],
   "source": [
    "def gencube(n):\n",
    "    for i in range (n):\n",
    "        yield i**3\n",
    "    "
   ]
  },
  {
   "cell_type": "code",
   "execution_count": 2,
   "id": "d9327a63",
   "metadata": {},
   "outputs": [
    {
     "data": {
      "text/plain": [
       "<generator object gencube at 0x1037297e0>"
      ]
     },
     "execution_count": 2,
     "metadata": {},
     "output_type": "execute_result"
    }
   ],
   "source": [
    "gencube(10)"
   ]
  },
  {
   "cell_type": "code",
   "execution_count": 3,
   "id": "b25ceedd",
   "metadata": {},
   "outputs": [
    {
     "data": {
      "text/plain": [
       "<generator object gencube at 0x104526730>"
      ]
     },
     "execution_count": 3,
     "metadata": {},
     "output_type": "execute_result"
    }
   ],
   "source": [
    "gencube(9)"
   ]
  },
  {
   "cell_type": "code",
   "execution_count": 4,
   "id": "fc4d5238",
   "metadata": {},
   "outputs": [
    {
     "name": "stdout",
     "output_type": "stream",
     "text": [
      "0\n",
      "1\n",
      "8\n",
      "27\n",
      "64\n",
      "125\n",
      "216\n",
      "343\n",
      "512\n"
     ]
    }
   ],
   "source": [
    "for i in gencube(9):\n",
    "    print(i)"
   ]
  },
  {
   "cell_type": "code",
   "execution_count": 10,
   "id": "598da0a0",
   "metadata": {},
   "outputs": [],
   "source": [
    "def fibo(n):\n",
    "    a=1\n",
    "    b=1\n",
    "    for i in range(n):\n",
    "        yield a,i\n",
    "        a,b=b,a+b"
   ]
  },
  {
   "cell_type": "code",
   "execution_count": 11,
   "id": "eb97db75",
   "metadata": {},
   "outputs": [
    {
     "name": "stdout",
     "output_type": "stream",
     "text": [
      "(1, 0)\n",
      "(1, 1)\n",
      "(2, 2)\n",
      "(3, 3)\n",
      "(5, 4)\n",
      "(8, 5)\n",
      "(13, 6)\n",
      "(21, 7)\n",
      "(34, 8)\n",
      "(55, 9)\n"
     ]
    }
   ],
   "source": [
    "for i in fibo(10):\n",
    "    print(i)"
   ]
  },
  {
   "cell_type": "code",
   "execution_count": 12,
   "id": "be861342",
   "metadata": {},
   "outputs": [],
   "source": [
    "def fibo1(n):\n",
    "    a=1\n",
    "    b=1\n",
    "    output=[]\n",
    "    for i in range(n):\n",
    "        output.append(a)\n",
    "        a,b=b,a+b\n",
    "    return output"
   ]
  },
  {
   "cell_type": "code",
   "execution_count": 13,
   "id": "8b7874e8",
   "metadata": {},
   "outputs": [
    {
     "data": {
      "text/plain": [
       "[1, 1, 2, 3, 5, 8, 13, 21, 34]"
      ]
     },
     "execution_count": 13,
     "metadata": {},
     "output_type": "execute_result"
    }
   ],
   "source": [
    "fibo1(9)"
   ]
  },
  {
   "cell_type": "code",
   "execution_count": 1,
   "id": "5d085f80",
   "metadata": {},
   "outputs": [
    {
     "name": "stdout",
     "output_type": "stream",
     "text": [
      "something in cosole\n"
     ]
    }
   ],
   "source": [
    "print(\"something in cosole\")"
   ]
  },
  {
   "cell_type": "code",
   "execution_count": 2,
   "id": "b442492c",
   "metadata": {},
   "outputs": [],
   "source": [
    "f=open(\"test.txt\",\"w\")"
   ]
  },
  {
   "cell_type": "code",
   "execution_count": 3,
   "id": "1f91c741",
   "metadata": {},
   "outputs": [
    {
     "data": {
      "text/plain": [
       "'/Users/dheerajkumar'"
      ]
     },
     "execution_count": 3,
     "metadata": {},
     "output_type": "execute_result"
    }
   ],
   "source": [
    "pwd()"
   ]
  },
  {
   "cell_type": "code",
   "execution_count": 4,
   "id": "ab568ab7",
   "metadata": {},
   "outputs": [
    {
     "data": {
      "text/plain": [
       "['In',\n",
       " 'Out',\n",
       " '_',\n",
       " '_3',\n",
       " '__',\n",
       " '___',\n",
       " '__builtin__',\n",
       " '__builtins__',\n",
       " '__doc__',\n",
       " '__loader__',\n",
       " '__name__',\n",
       " '__package__',\n",
       " '__spec__',\n",
       " '_dh',\n",
       " '_i',\n",
       " '_i1',\n",
       " '_i2',\n",
       " '_i3',\n",
       " '_i4',\n",
       " '_ih',\n",
       " '_ii',\n",
       " '_iii',\n",
       " '_oh',\n",
       " 'exit',\n",
       " 'f',\n",
       " 'get_ipython',\n",
       " 'quit']"
      ]
     },
     "execution_count": 4,
     "metadata": {},
     "output_type": "execute_result"
    }
   ],
   "source": [
    "dir()"
   ]
  },
  {
   "cell_type": "code",
   "execution_count": 5,
   "id": "776f686c",
   "metadata": {},
   "outputs": [
    {
     "name": "stdout",
     "output_type": "stream",
     "text": [
      "\u001b[34mDesktop\u001b[m\u001b[m\r\n",
      "\u001b[34mDocuments\u001b[m\u001b[m\r\n",
      "\u001b[34mDownloads\u001b[m\u001b[m\r\n",
      "\u001b[34mLibrary\u001b[m\u001b[m\r\n",
      "\u001b[34mMovies\u001b[m\u001b[m\r\n",
      "\u001b[34mMusic\u001b[m\u001b[m\r\n",
      "\u001b[34mPictures\u001b[m\u001b[m\r\n",
      "\u001b[34mPublic\u001b[m\u001b[m\r\n",
      "\u001b[34mPycharmProjects\u001b[m\u001b[m\r\n",
      "Untitled.ipynb\r\n",
      "Untitled1.ipynb\r\n",
      "Untitled10.ipynb\r\n",
      "Untitled11.ipynb\r\n",
      "Untitled12.ipynb\r\n",
      "Untitled14.ipynb\r\n",
      "Untitled2.ipynb\r\n",
      "Untitled3.ipynb\r\n",
      "Untitled4.ipynb\r\n",
      "Untitled5.ipynb\r\n",
      "Untitled6.ipynb\r\n",
      "Untitled7.ipynb\r\n",
      "Untitled8.ipynb\r\n",
      "Untitled9.ipynb\r\n",
      "assignment\r\n",
      "basic dictionary operation and defining function.ipynb\r\n",
      "for loop and basic while loop and range .ipynb\r\n",
      "for loop appending.ipynb\r\n",
      "function writing,multiple arguments,lambda function,comprehension,iterator.ipynb\r\n",
      "function writing.ipynb\r\n",
      "generator.ipynb\r\n",
      "get-pip.py\r\n",
      "if else , for loop.ipynb\r\n",
      "range operatiion.ipynb\r\n",
      "test.txt\r\n",
      "tuples, set.ipynb\r\n",
      "untitled.txt\r\n",
      "untitled1.txt\r\n"
     ]
    }
   ],
   "source": [
    "!ls"
   ]
  },
  {
   "cell_type": "code",
   "execution_count": 6,
   "id": "3117f818",
   "metadata": {},
   "outputs": [
    {
     "data": {
      "text/plain": [
       "'/Users/dheerajkumar'"
      ]
     },
     "execution_count": 6,
     "metadata": {},
     "output_type": "execute_result"
    }
   ],
   "source": [
    " pwd()"
   ]
  },
  {
   "cell_type": "code",
   "execution_count": 7,
   "id": "aa9a37df",
   "metadata": {},
   "outputs": [
    {
     "name": "stdout",
     "output_type": "stream",
     "text": [
      "\u001b[34mDesktop\u001b[m\u001b[m/\r\n",
      "\u001b[34mDocuments\u001b[m\u001b[m/\r\n",
      "\u001b[34mDownloads\u001b[m\u001b[m/\r\n",
      "\u001b[34mLibrary\u001b[m\u001b[m/\r\n",
      "\u001b[34mMovies\u001b[m\u001b[m/\r\n",
      "\u001b[34mMusic\u001b[m\u001b[m/\r\n",
      "\u001b[34mPictures\u001b[m\u001b[m/\r\n",
      "\u001b[34mPublic\u001b[m\u001b[m/\r\n",
      "\u001b[34mPycharmProjects\u001b[m\u001b[m/\r\n",
      "Untitled.ipynb\r\n",
      "Untitled1.ipynb\r\n",
      "Untitled10.ipynb\r\n",
      "Untitled11.ipynb\r\n",
      "Untitled12.ipynb\r\n",
      "Untitled14.ipynb\r\n",
      "Untitled2.ipynb\r\n",
      "Untitled3.ipynb\r\n",
      "Untitled4.ipynb\r\n",
      "Untitled5.ipynb\r\n",
      "Untitled6.ipynb\r\n",
      "Untitled7.ipynb\r\n",
      "Untitled8.ipynb\r\n",
      "Untitled9.ipynb\r\n",
      "assignment\r\n",
      "basic dictionary operation and defining function.ipynb\r\n",
      "for loop and basic while loop and range .ipynb\r\n",
      "for loop appending.ipynb\r\n",
      "function writing,multiple arguments,lambda function,comprehension,iterator.ipynb\r\n",
      "function writing.ipynb\r\n",
      "generator.ipynb\r\n",
      "get-pip.py\r\n",
      "if else , for loop.ipynb\r\n",
      "range operatiion.ipynb\r\n",
      "test.txt\r\n",
      "tuples, set.ipynb\r\n",
      "untitled.txt\r\n",
      "untitled1.txt\r\n"
     ]
    }
   ],
   "source": [
    "%ls"
   ]
  },
  {
   "cell_type": "code",
   "execution_count": 8,
   "id": "4a4b4b42",
   "metadata": {},
   "outputs": [],
   "source": [
    "f=open(\"test2\",\"w\")"
   ]
  },
  {
   "cell_type": "code",
   "execution_count": 9,
   "id": "b451c020",
   "metadata": {},
   "outputs": [
    {
     "data": {
      "text/plain": [
       "49"
      ]
     },
     "execution_count": 9,
     "metadata": {},
     "output_type": "execute_result"
    }
   ],
   "source": [
    "f.write(\"this is my first file operation  in my test2.text\")"
   ]
  },
  {
   "cell_type": "code",
   "execution_count": 11,
   "id": "2e8f6103",
   "metadata": {},
   "outputs": [],
   "source": [
    "f.close()"
   ]
  },
  {
   "cell_type": "code",
   "execution_count": 12,
   "id": "56526ef2",
   "metadata": {},
   "outputs": [],
   "source": [
    "f=open(\"test2\",\"w\")"
   ]
  },
  {
   "cell_type": "code",
   "execution_count": 13,
   "id": "232e1c8e",
   "metadata": {},
   "outputs": [
    {
     "data": {
      "text/plain": [
       "45"
      ]
     },
     "execution_count": 13,
     "metadata": {},
     "output_type": "execute_result"
    }
   ],
   "source": [
    "f.write(\"hi this is my first operation related to file\")"
   ]
  },
  {
   "cell_type": "code",
   "execution_count": 14,
   "id": "16b5d9fa",
   "metadata": {},
   "outputs": [],
   "source": [
    "f.close()"
   ]
  },
  {
   "cell_type": "code",
   "execution_count": 15,
   "id": "9815aaba",
   "metadata": {},
   "outputs": [
    {
     "name": "stdout",
     "output_type": "stream",
     "text": [
      "Writing test2.txt\n"
     ]
    }
   ],
   "source": [
    "%%writefile test2.txt\n",
    "this is a data i would like to store"
   ]
  },
  {
   "cell_type": "code",
   "execution_count": 16,
   "id": "9c7aed9f",
   "metadata": {},
   "outputs": [
    {
     "name": "stdout",
     "output_type": "stream",
     "text": [
      "\u001b[34mDesktop\u001b[m\u001b[m/\r\n",
      "\u001b[34mDocuments\u001b[m\u001b[m/\r\n",
      "\u001b[34mDownloads\u001b[m\u001b[m/\r\n",
      "\u001b[34mLibrary\u001b[m\u001b[m/\r\n",
      "\u001b[34mMovies\u001b[m\u001b[m/\r\n",
      "\u001b[34mMusic\u001b[m\u001b[m/\r\n",
      "\u001b[34mPictures\u001b[m\u001b[m/\r\n",
      "\u001b[34mPublic\u001b[m\u001b[m/\r\n",
      "\u001b[34mPycharmProjects\u001b[m\u001b[m/\r\n",
      "Untitled.ipynb\r\n",
      "Untitled1.ipynb\r\n",
      "Untitled10.ipynb\r\n",
      "Untitled11.ipynb\r\n",
      "Untitled12.ipynb\r\n",
      "Untitled14.ipynb\r\n",
      "Untitled2.ipynb\r\n",
      "Untitled3.ipynb\r\n",
      "Untitled4.ipynb\r\n",
      "Untitled5.ipynb\r\n",
      "Untitled6.ipynb\r\n",
      "Untitled7.ipynb\r\n",
      "Untitled8.ipynb\r\n",
      "Untitled9.ipynb\r\n",
      "assignment\r\n",
      "basic dictionary operation and defining function.ipynb\r\n",
      "for loop and basic while loop and range .ipynb\r\n",
      "for loop appending.ipynb\r\n",
      "function writing,multiple arguments,lambda function,comprehension,iterator.ipynb\r\n",
      "function writing.ipynb\r\n",
      "generator.ipynb\r\n",
      "get-pip.py\r\n",
      "if else , for loop.ipynb\r\n",
      "range operatiion.ipynb\r\n",
      "test.txt\r\n",
      "test2\r\n",
      "test2.txt\r\n",
      "tuples, set.ipynb\r\n",
      "untitled.txt\r\n",
      "untitled1.txt\r\n"
     ]
    }
   ],
   "source": [
    "%ls"
   ]
  },
  {
   "cell_type": "code",
   "execution_count": 21,
   "id": "3043c16f",
   "metadata": {},
   "outputs": [],
   "source": [
    " f=open(\"test2\")"
   ]
  },
  {
   "cell_type": "code",
   "execution_count": 22,
   "id": "cd166164",
   "metadata": {},
   "outputs": [
    {
     "data": {
      "text/plain": [
       "'hi this is my first operation related to file'"
      ]
     },
     "execution_count": 22,
     "metadata": {},
     "output_type": "execute_result"
    }
   ],
   "source": [
    "f.read()"
   ]
  },
  {
   "cell_type": "code",
   "execution_count": 23,
   "id": "586a8a84",
   "metadata": {},
   "outputs": [],
   "source": [
    "f=open('test2.txt')"
   ]
  },
  {
   "cell_type": "code",
   "execution_count": 24,
   "id": "66102eb1",
   "metadata": {},
   "outputs": [
    {
     "data": {
      "text/plain": [
       "'this is a data i would like to store\\n'"
      ]
     },
     "execution_count": 24,
     "metadata": {},
     "output_type": "execute_result"
    }
   ],
   "source": [
    "f.read()"
   ]
  },
  {
   "cell_type": "code",
   "execution_count": 25,
   "id": "444aa92c",
   "metadata": {},
   "outputs": [
    {
     "data": {
      "text/plain": [
       "''"
      ]
     },
     "execution_count": 25,
     "metadata": {},
     "output_type": "execute_result"
    }
   ],
   "source": [
    "f.read()"
   ]
  },
  {
   "cell_type": "code",
   "execution_count": 26,
   "id": "e68f10d8",
   "metadata": {},
   "outputs": [
    {
     "data": {
      "text/plain": [
       "''"
      ]
     },
     "execution_count": 26,
     "metadata": {},
     "output_type": "execute_result"
    }
   ],
   "source": [
    "f.read()"
   ]
  },
  {
   "cell_type": "code",
   "execution_count": 27,
   "id": "49e784d7",
   "metadata": {},
   "outputs": [
    {
     "data": {
      "text/plain": [
       "5"
      ]
     },
     "execution_count": 27,
     "metadata": {},
     "output_type": "execute_result"
    }
   ],
   "source": [
    "f.seek(5)"
   ]
  },
  {
   "cell_type": "code",
   "execution_count": 28,
   "id": "803f9de9",
   "metadata": {},
   "outputs": [
    {
     "data": {
      "text/plain": [
       "'is a data i would like to store\\n'"
      ]
     },
     "execution_count": 28,
     "metadata": {},
     "output_type": "execute_result"
    }
   ],
   "source": [
    "f.read()"
   ]
  },
  {
   "cell_type": "code",
   "execution_count": 2,
   "id": "eed4f7e6",
   "metadata": {},
   "outputs": [],
   "source": [
    "f=open(\"google.txt\",\"w\")"
   ]
  },
  {
   "cell_type": "code",
   "execution_count": 5,
   "id": "54ee3a05",
   "metadata": {},
   "outputs": [],
   "source": [
    "f.close()"
   ]
  },
  {
   "cell_type": "code",
   "execution_count": 7,
   "id": "3e9c2340",
   "metadata": {},
   "outputs": [],
   "source": [
    "f=open(\"google.txt\",\"r+\")"
   ]
  },
  {
   "cell_type": "code",
   "execution_count": 8,
   "id": "6cbaace5",
   "metadata": {},
   "outputs": [
    {
     "name": "stdout",
     "output_type": "stream",
     "text": [
      "Would you want to read a technology startup version of When Harry Met Sally?, a story about two doctoral students building the most amazing internet success of our time? Only this story entails transforming a mathematical term into a popular verb used in daily conversations for research and web surfing by students and business professionals. All of this and much more has been compiled in a chronology of events associated with the early beginnings in The Google Story. The story tends to follow a similar tone and theme to the movie Pirates of Silicon Valley, but with less drama and industrial espionage. The founders are portrayed as the “rock stars” of the technology world.\n",
      " The book details the early lives of Sergey Brin and Larry Page, beginning when they met as computer science doctoral students at Stanford University. Ironically, the derivation of the company’s name, (googol, one followed by 100 zeroes) equates to the depth of the journey to build the technology phenomenon called Google. Throughout the book, it is clear that the indelible influence of their families provided the strong foundation of work ethic, character, and respect for education. Sergey and Larry were relentless to retain control over the operation, ownership, and strategic development of the startup with incredible drive and discipline. Maybe more importantly, the friendship and relationship of the founders never veered from mutual respect and avoided any ego expansion. Their strong personality characteristics were threaded continuously through a series of challenges consisting of business growth, venture capital investors, development of the business model, public stock offering, and the appointment of a chief executive officer.\n",
      " The story also includes its complement of amusing and interesting events. “Hiring a pilot” (chapter 9) tells the events associated with the 16-month adventure to convince the founders to hire a CEO while they rejected one applicant after another. This endeavor consisted of a “push and pull” effort between one venture capitalist and technology rock stars of Google. Finally, the investor convinced Eric Schmidt to meet and chat with Sergey and Larry. Schmidt, a former CTO of Sun Microsystems and then current CEO of Novell, recalled walking into a room to meet the founders. Almost immediately after he sat down, “Sergey laid into him about what he termed the ‘stupidity’ of the strategy Schmidt as executing at Novell” (p. 107). An intriguing first meeting for Schmidt, who would later be offered the position of Google’s first CEO.\n",
      " The bright (and naïve) talents of the early computer science PhD students proved to be fascinating as Page envisioned the early Google model. He thought of a “crazy idea” to download the entire web onto his computer, promising his advisor that the task would be completed in a week However, after “about a year or so, I had some portion of it (web)” (p. 11). While the estimate of the timescale was a bit unrealistic, it was a preview of coming attractions for Google’s technology model. "
     ]
    }
   ],
   "source": [
    "for line in f:\n",
    "    print(line,end=\" \")"
   ]
  },
  {
   "cell_type": "code",
   "execution_count": 22,
   "id": "377636bb",
   "metadata": {},
   "outputs": [],
   "source": [
    "f.close()"
   ]
  },
  {
   "cell_type": "code",
   "execution_count": 23,
   "id": "103a3a3b",
   "metadata": {},
   "outputs": [],
   "source": [
    "f=open(\"google.txt\",\"r\")"
   ]
  },
  {
   "cell_type": "code",
   "execution_count": 24,
   "id": "21e2e0fd",
   "metadata": {},
   "outputs": [],
   "source": [
    "l=f.readlines()"
   ]
  },
  {
   "cell_type": "code",
   "execution_count": 25,
   "id": "f63b4f6a",
   "metadata": {},
   "outputs": [
    {
     "name": "stdout",
     "output_type": "stream",
     "text": [
      "Would you want to read a technology startup version of When Harry Met Sally?, a story about two doctoral students building the most amazing internet success of our time? Only this story entails transforming a mathematical term into a popular verb used in daily conversations for research and web surfing by students and business professionals. All of this and much more has been compiled in a chronology of events associated with the early beginnings in The Google Story. The story tends to follow a similar tone and theme to the movie Pirates of Silicon Valley, but with less drama and industrial espionage. The founders are portrayed as the “rock stars” of the technology world.\n",
      " The book details the early lives of Sergey Brin and Larry Page, beginning when they met as computer science doctoral students at Stanford University. Ironically, the derivation of the company’s name, (googol, one followed by 100 zeroes) equates to the depth of the journey to build the technology phenomenon called Google. Throughout the book, it is clear that the indelible influence of their families provided the strong foundation of work ethic, character, and respect for education. Sergey and Larry were relentless to retain control over the operation, ownership, and strategic development of the startup with incredible drive and discipline. Maybe more importantly, the friendship and relationship of the founders never veered from mutual respect and avoided any ego expansion. Their strong personality characteristics were threaded continuously through a series of challenges consisting of business growth, venture capital investors, development of the business model, public stock offering, and the appointment of a chief executive officer.\n",
      " The story also includes its complement of amusing and interesting events. “Hiring a pilot” (chapter 9) tells the events associated with the 16-month adventure to convince the founders to hire a CEO while they rejected one applicant after another. This endeavor consisted of a “push and pull” effort between one venture capitalist and technology rock stars of Google. Finally, the investor convinced Eric Schmidt to meet and chat with Sergey and Larry. Schmidt, a former CTO of Sun Microsystems and then current CEO of Novell, recalled walking into a room to meet the founders. Almost immediately after he sat down, “Sergey laid into him about what he termed the ‘stupidity’ of the strategy Schmidt as executing at Novell” (p. 107). An intriguing first meeting for Schmidt, who would later be offered the position of Google’s first CEO.\n",
      " The bright (and naïve) talents of the early computer science PhD students proved to be fascinating as Page envisioned the early Google model. He thought of a “crazy idea” to download the entire web onto his computer, promising his advisor that the task would be completed in a week However, after “about a year or so, I had some portion of it (web)” (p. 11). While the estimate of the timescale was a bit unrealistic, it was a preview of coming attractions for Google’s technology model. "
     ]
    }
   ],
   "source": [
    "for lines in l:\n",
    "    print(lines,end=\" \")"
   ]
  },
  {
   "cell_type": "code",
   "execution_count": 26,
   "id": "0997596d",
   "metadata": {},
   "outputs": [
    {
     "data": {
      "text/plain": [
       "''"
      ]
     },
     "execution_count": 26,
     "metadata": {},
     "output_type": "execute_result"
    }
   ],
   "source": [
    "f.readline()"
   ]
  },
  {
   "cell_type": "code",
   "execution_count": 27,
   "id": "1ed771c3",
   "metadata": {},
   "outputs": [
    {
     "data": {
      "text/plain": [
       "[]"
      ]
     },
     "execution_count": 27,
     "metadata": {},
     "output_type": "execute_result"
    }
   ],
   "source": [
    "f.readlines()"
   ]
  },
  {
   "cell_type": "code",
   "execution_count": 28,
   "id": "049279c2",
   "metadata": {},
   "outputs": [
    {
     "data": {
      "text/plain": [
       "'Would you want to read a technology startup version of When Harry Met Sally?, a story about two doctoral students building the most amazing internet success of our time? Only this story entails transforming a mathematical term into a popular verb used in daily conversations for research and web surfing by students and business professionals. All of this and much more has been compiled in a chronology of events associated with the early beginnings in The Google Story. The story tends to follow a similar tone and theme to the movie Pirates of Silicon Valley, but with less drama and industrial espionage. The founders are portrayed as the “rock stars” of the technology world.\\n'"
      ]
     },
     "execution_count": 28,
     "metadata": {},
     "output_type": "execute_result"
    }
   ],
   "source": [
    "l[0]"
   ]
  },
  {
   "cell_type": "code",
   "execution_count": 29,
   "id": "b1e93bd0",
   "metadata": {},
   "outputs": [
    {
     "data": {
      "text/plain": [
       "'The book details the early lives of Sergey Brin and Larry Page, beginning when they met as computer science doctoral students at Stanford University. Ironically, the derivation of the company’s name, (googol, one followed by 100 zeroes) equates to the depth of the journey to build the technology phenomenon called Google. Throughout the book, it is clear that the indelible influence of their families provided the strong foundation of work ethic, character, and respect for education. Sergey and Larry were relentless to retain control over the operation, ownership, and strategic development of the startup with incredible drive and discipline. Maybe more importantly, the friendship and relationship of the founders never veered from mutual respect and avoided any ego expansion. Their strong personality characteristics were threaded continuously through a series of challenges consisting of business growth, venture capital investors, development of the business model, public stock offering, and the appointment of a chief executive officer.\\n'"
      ]
     },
     "execution_count": 29,
     "metadata": {},
     "output_type": "execute_result"
    }
   ],
   "source": [
    "l[1]"
   ]
  },
  {
   "cell_type": "code",
   "execution_count": 30,
   "id": "66fef252",
   "metadata": {},
   "outputs": [
    {
     "data": {
      "text/plain": [
       "['Would',\n",
       " 'you',\n",
       " 'want',\n",
       " 'to',\n",
       " 'read',\n",
       " 'a',\n",
       " 'technology',\n",
       " 'startup',\n",
       " 'version',\n",
       " 'of',\n",
       " 'When',\n",
       " 'Harry',\n",
       " 'Met',\n",
       " 'Sally?,',\n",
       " 'a',\n",
       " 'story',\n",
       " 'about',\n",
       " 'two',\n",
       " 'doctoral',\n",
       " 'students',\n",
       " 'building',\n",
       " 'the',\n",
       " 'most',\n",
       " 'amazing',\n",
       " 'internet',\n",
       " 'success',\n",
       " 'of',\n",
       " 'our',\n",
       " 'time?',\n",
       " 'Only',\n",
       " 'this',\n",
       " 'story',\n",
       " 'entails',\n",
       " 'transforming',\n",
       " 'a',\n",
       " 'mathematical',\n",
       " 'term',\n",
       " 'into',\n",
       " 'a',\n",
       " 'popular',\n",
       " 'verb',\n",
       " 'used',\n",
       " 'in',\n",
       " 'daily',\n",
       " 'conversations',\n",
       " 'for',\n",
       " 'research',\n",
       " 'and',\n",
       " 'web',\n",
       " 'surfing',\n",
       " 'by',\n",
       " 'students',\n",
       " 'and',\n",
       " 'business',\n",
       " 'professionals.',\n",
       " 'All',\n",
       " 'of',\n",
       " 'this',\n",
       " 'and',\n",
       " 'much',\n",
       " 'more',\n",
       " 'has',\n",
       " 'been',\n",
       " 'compiled',\n",
       " 'in',\n",
       " 'a',\n",
       " 'chronology',\n",
       " 'of',\n",
       " 'events',\n",
       " 'associated',\n",
       " 'with',\n",
       " 'the',\n",
       " 'early',\n",
       " 'beginnings',\n",
       " 'in',\n",
       " 'The',\n",
       " 'Google',\n",
       " 'Story.',\n",
       " 'The',\n",
       " 'story',\n",
       " 'tends',\n",
       " 'to',\n",
       " 'follow',\n",
       " 'a',\n",
       " 'similar',\n",
       " 'tone',\n",
       " 'and',\n",
       " 'theme',\n",
       " 'to',\n",
       " 'the',\n",
       " 'movie',\n",
       " 'Pirates',\n",
       " 'of',\n",
       " 'Silicon',\n",
       " 'Valley,',\n",
       " 'but',\n",
       " 'with',\n",
       " 'less',\n",
       " 'drama',\n",
       " 'and',\n",
       " 'industrial',\n",
       " 'espionage.',\n",
       " 'The',\n",
       " 'founders',\n",
       " 'are',\n",
       " 'portrayed',\n",
       " 'as',\n",
       " 'the',\n",
       " '“rock',\n",
       " 'stars”',\n",
       " 'of',\n",
       " 'the',\n",
       " 'technology',\n",
       " 'world.']"
      ]
     },
     "execution_count": 30,
     "metadata": {},
     "output_type": "execute_result"
    }
   ],
   "source": [
    "l[0].split()"
   ]
  },
  {
   "cell_type": "code",
   "execution_count": 32,
   "id": "ebe656b0",
   "metadata": {},
   "outputs": [],
   "source": [
    "for i in l[0]:\n",
    "    if i==\"and\":\n",
    "        print (\"dheeraj\")"
   ]
  },
  {
   "cell_type": "code",
   "execution_count": 33,
   "id": "c1312ec2",
   "metadata": {},
   "outputs": [],
   "source": [
    "f.close()"
   ]
  },
  {
   "cell_type": "code",
   "execution_count": 34,
   "id": "62a2a73d",
   "metadata": {},
   "outputs": [],
   "source": [
    "l=open(\"google.txt\",\"r+\")"
   ]
  },
  {
   "cell_type": "code",
   "execution_count": 35,
   "id": "93a33f56",
   "metadata": {},
   "outputs": [],
   "source": [
    "a=l.readlines()"
   ]
  },
  {
   "cell_type": "code",
   "execution_count": 36,
   "id": "0486a1de",
   "metadata": {},
   "outputs": [
    {
     "name": "stdout",
     "output_type": "stream",
     "text": [
      "Would you want to read a technology startup version of When Harry Met Sally?, a story about two doctoral students building the most amazing internet success of our time? Only this story entails transforming a mathematical term into a popular verb used in daily conversations for research and web surfing by students and business professionals. All of this and much more has been compiled in a chronology of events associated with the early beginnings in The Google Story. The story tends to follow a similar tone and theme to the movie Pirates of Silicon Valley, but with less drama and industrial espionage. The founders are portrayed as the “rock stars” of the technology world.\n",
      " The book details the early lives of Sergey Brin and Larry Page, beginning when they met as computer science doctoral students at Stanford University. Ironically, the derivation of the company’s name, (googol, one followed by 100 zeroes) equates to the depth of the journey to build the technology phenomenon called Google. Throughout the book, it is clear that the indelible influence of their families provided the strong foundation of work ethic, character, and respect for education. Sergey and Larry were relentless to retain control over the operation, ownership, and strategic development of the startup with incredible drive and discipline. Maybe more importantly, the friendship and relationship of the founders never veered from mutual respect and avoided any ego expansion. Their strong personality characteristics were threaded continuously through a series of challenges consisting of business growth, venture capital investors, development of the business model, public stock offering, and the appointment of a chief executive officer.\n",
      " The story also includes its complement of amusing and interesting events. “Hiring a pilot” (chapter 9) tells the events associated with the 16-month adventure to convince the founders to hire a CEO while they rejected one applicant after another. This endeavor consisted of a “push and pull” effort between one venture capitalist and technology rock stars of Google. Finally, the investor convinced Eric Schmidt to meet and chat with Sergey and Larry. Schmidt, a former CTO of Sun Microsystems and then current CEO of Novell, recalled walking into a room to meet the founders. Almost immediately after he sat down, “Sergey laid into him about what he termed the ‘stupidity’ of the strategy Schmidt as executing at Novell” (p. 107). An intriguing first meeting for Schmidt, who would later be offered the position of Google’s first CEO.\n",
      " The bright (and naïve) talents of the early computer science PhD students proved to be fascinating as Page envisioned the early Google model. He thought of a “crazy idea” to download the entire web onto his computer, promising his advisor that the task would be completed in a week However, after “about a year or so, I had some portion of it (web)” (p. 11). While the estimate of the timescale was a bit unrealistic, it was a preview of coming attractions for Google’s technology model. "
     ]
    }
   ],
   "source": [
    "for i in a:\n",
    "    print(i,end=\" \")"
   ]
  },
  {
   "cell_type": "code",
   "execution_count": 37,
   "id": "abd9ebea",
   "metadata": {},
   "outputs": [],
   "source": [
    "f.close()"
   ]
  },
  {
   "cell_type": "code",
   "execution_count": 38,
   "id": "8755f048",
   "metadata": {},
   "outputs": [],
   "source": [
    "import os\n",
    "os.remove(\"google.txt\")"
   ]
  },
  {
   "cell_type": "code",
   "execution_count": 40,
   "id": "b8cc4e01",
   "metadata": {},
   "outputs": [
    {
     "data": {
      "text/plain": [
       "'/Users/dheerajkumar'"
      ]
     },
     "execution_count": 40,
     "metadata": {},
     "output_type": "execute_result"
    }
   ],
   "source": [
    "os.getcwd()"
   ]
  },
  {
   "cell_type": "code",
   "execution_count": 41,
   "id": "a24de557",
   "metadata": {},
   "outputs": [
    {
     "data": {
      "text/plain": [
       "['Untitled10.ipynb',\n",
       " 'Untitled7.ipynb',\n",
       " 'Music',\n",
       " 'mydict.py',\n",
       " 'dk.txt',\n",
       " 'test4.txt',\n",
       " 'Untitled12.ipynb',\n",
       " 'function writing.ipynb',\n",
       " 'Untitled5.ipynb',\n",
       " 'Untitled1.ipynb',\n",
       " 'Untitled16.ipynb',\n",
       " '.DS_Store',\n",
       " 'function writing,multiple arguments,lambda function,comprehension,iterator.ipynb',\n",
       " 'get-pip.py',\n",
       " 'file operation.ipynb',\n",
       " '.CFUserTextEncoding',\n",
       " 'for loop appending.ipynb',\n",
       " 'test2.txt',\n",
       " 'Oops2.ipynb',\n",
       " 'test3.txt',\n",
       " 'Untitled3.ipynb',\n",
       " 'Untitled14.ipynb',\n",
       " 'Untitled.ipynb',\n",
       " 'test.log',\n",
       " 'Untitled4.ipynb',\n",
       " 'Untitled13.ipynb',\n",
       " 'Untitled6.ipynb',\n",
       " 'modules.ipynb',\n",
       " 'Pictures',\n",
       " 'Untitled11.ipynb',\n",
       " 'exception handling 2.ipynb',\n",
       " '.zprofile',\n",
       " 'for loop and basic while loop and range .ipynb',\n",
       " 'Untitled15.ipynb',\n",
       " '.zsh_history',\n",
       " 'Untitled2.ipynb',\n",
       " 'assignment',\n",
       " '.ipython',\n",
       " 'Desktop',\n",
       " 'Library',\n",
       " '__pycache__',\n",
       " 'Untitled17.ipynb',\n",
       " 'test.py',\n",
       " 'untitled.txt',\n",
       " 'Oops.ipynb',\n",
       " 'Public',\n",
       " 'test4.log',\n",
       " '.idlerc',\n",
       " 'untitled1.txt',\n",
       " 'if else , for loop.ipynb',\n",
       " 'generator & file basics.ipynb',\n",
       " 'tuples, set.ipynb',\n",
       " 'test3.log',\n",
       " 'untitled2.txt',\n",
       " 'Untitled8.ipynb',\n",
       " 'Movies',\n",
       " 'Applications',\n",
       " 'mymodule.py',\n",
       " '.Trash',\n",
       " 'untitled3.txt',\n",
       " 'test2.log',\n",
       " 'test.txt',\n",
       " '.ipynb_checkpoints',\n",
       " 'Untitled18.ipynb',\n",
       " '.jupyter',\n",
       " 'test3',\n",
       " 'Documents',\n",
       " 'test2',\n",
       " 'vikas.numbers',\n",
       " 'basic dictionary operation and defining function.ipynb',\n",
       " 'homework.ipynb',\n",
       " 'logging.ipynb',\n",
       " 'Downloads',\n",
       " '.python_history',\n",
       " 'listlog.log',\n",
       " 'range operatiion.ipynb',\n",
       " 'Untitled9.ipynb',\n",
       " '.zsh_sessions',\n",
       " 'dheeraj.log',\n",
       " 'exception handling.ipynb']"
      ]
     },
     "execution_count": 41,
     "metadata": {},
     "output_type": "execute_result"
    }
   ],
   "source": [
    "os.listdir()"
   ]
  },
  {
   "cell_type": "code",
   "execution_count": 43,
   "id": "98639c32",
   "metadata": {},
   "outputs": [
    {
     "data": {
      "text/plain": [
       "['.DS_Store',\n",
       " 'pycharm-community-2022.1.dmg',\n",
       " '.localized',\n",
       " 'Adobe Zii 2020 5.1.6.app',\n",
       " '6ae571bc-10ba-4d16-b4dc-e2bbce522249.jpg',\n",
       " '.ipynb_checkpoints',\n",
       " 'hd wallpaper.jpg',\n",
       " 'hd wallpaper.psd',\n",
       " 'photoshop.psd']"
      ]
     },
     "execution_count": 43,
     "metadata": {},
     "output_type": "execute_result"
    }
   ],
   "source": [
    "\"this function is to see the list of files in a particular directory\"\n",
    "def file(path):\n",
    "    import os\n",
    "    return os.listdir(path)\n",
    "file(\"/Users/dheerajkumar/desktop\")"
   ]
  },
  {
   "cell_type": "code",
   "execution_count": null,
   "id": "aedb0636",
   "metadata": {},
   "outputs": [],
   "source": []
  }
 ],
 "metadata": {
  "kernelspec": {
   "display_name": "Python 3 (ipykernel)",
   "language": "python",
   "name": "python3"
  },
  "language_info": {
   "codemirror_mode": {
    "name": "ipython",
    "version": 3
   },
   "file_extension": ".py",
   "mimetype": "text/x-python",
   "name": "python",
   "nbconvert_exporter": "python",
   "pygments_lexer": "ipython3",
   "version": "3.10.4"
  }
 },
 "nbformat": 4,
 "nbformat_minor": 5
}

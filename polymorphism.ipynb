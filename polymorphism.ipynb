{
 "cells": [
  {
   "cell_type": "code",
   "execution_count": 1,
   "id": "afc7fd09",
   "metadata": {},
   "outputs": [],
   "source": [
    "def test(a,b):\n",
    "    return a+b"
   ]
  },
  {
   "cell_type": "code",
   "execution_count": 2,
   "id": "470d996b",
   "metadata": {},
   "outputs": [
    {
     "data": {
      "text/plain": [
       "7"
      ]
     },
     "execution_count": 2,
     "metadata": {},
     "output_type": "execute_result"
    }
   ],
   "source": [
    "test(3,4)"
   ]
  },
  {
   "cell_type": "code",
   "execution_count": 3,
   "id": "e09f4a74",
   "metadata": {},
   "outputs": [
    {
     "data": {
      "text/plain": [
       "'dheerajkumar'"
      ]
     },
     "execution_count": 3,
     "metadata": {},
     "output_type": "execute_result"
    }
   ],
   "source": [
    "test(\"dheeraj\",\"kumar\")"
   ]
  },
  {
   "cell_type": "code",
   "execution_count": 6,
   "id": "bfa46e43",
   "metadata": {},
   "outputs": [],
   "source": [
    "class insta:\n",
    "    def share_stories(self):\n",
    "        print(\"this will share my insta story\")\n",
    "class facebook:\n",
    "    def share_stories(self):\n",
    "        print(\"this will share my fb story\")\n"
   ]
  },
  {
   "cell_type": "code",
   "execution_count": 7,
   "id": "d658c8b3",
   "metadata": {},
   "outputs": [],
   "source": [
    "def sharestories(app):\n",
    "    app.share_stories()"
   ]
  },
  {
   "cell_type": "code",
   "execution_count": 8,
   "id": "93d4f2db",
   "metadata": {},
   "outputs": [],
   "source": [
    "i=insta()\n",
    "f=facebook()"
   ]
  },
  {
   "cell_type": "code",
   "execution_count": 9,
   "id": "4bd44b0e",
   "metadata": {},
   "outputs": [
    {
     "name": "stdout",
     "output_type": "stream",
     "text": [
      "this will share my insta story\n"
     ]
    }
   ],
   "source": [
    "sharestories(i)"
   ]
  },
  {
   "cell_type": "code",
   "execution_count": 10,
   "id": "1e2c4799",
   "metadata": {},
   "outputs": [
    {
     "name": "stdout",
     "output_type": "stream",
     "text": [
      "this will share my fb story\n"
     ]
    }
   ],
   "source": [
    "sharestories(f)"
   ]
  },
  {
   "cell_type": "code",
   "execution_count": 11,
   "id": "462017a8",
   "metadata": {},
   "outputs": [],
   "source": [
    "class social:\n",
    "    def share_stories(self):\n",
    "        print(\"share a stories\")\n",
    "    def upload_pic(self):\n",
    "        print(\"this will help in uploading pic on social media\")\n",
    "    \n",
    "class facebook(social):\n",
    "    def share_stories(self):\n",
    "        print(\"this is a shred story for facebook\")\n",
    "    \n",
    "class insta(social):\n",
    "    def share_stories(self):\n",
    "        print(\"this is insta shared stories\")"
   ]
  },
  {
   "cell_type": "code",
   "execution_count": 12,
   "id": "9deac5b9",
   "metadata": {},
   "outputs": [],
   "source": [
    "f= facebook()\n",
    "i=insta()"
   ]
  },
  {
   "cell_type": "code",
   "execution_count": 13,
   "id": "9407dba8",
   "metadata": {},
   "outputs": [
    {
     "name": "stdout",
     "output_type": "stream",
     "text": [
      "this is a shred story for facebook\n"
     ]
    }
   ],
   "source": [
    "f.share_stories()"
   ]
  },
  {
   "cell_type": "code",
   "execution_count": 2,
   "id": "a5ab088c",
   "metadata": {},
   "outputs": [],
   "source": [
    "class test(Exception):\n",
    "    def __init__(self,msg):\n",
    "            self.msg=msg\n",
    "        "
   ]
  },
  {
   "cell_type": "code",
   "execution_count": 3,
   "id": "1e1af49d",
   "metadata": {},
   "outputs": [
    {
     "name": "stdout",
     "output_type": "stream",
     "text": [
      "this is my own exception class\n"
     ]
    }
   ],
   "source": [
    "try:\n",
    "    raise(test(\"this is my own exception class\"))\n",
    "except test as t:\n",
    "    print(t)"
   ]
  },
  {
   "cell_type": "code",
   "execution_count": 10,
   "id": "650b1551",
   "metadata": {},
   "outputs": [],
   "source": [
    "class add:\n",
    "    def __init__(self,a,b):\n",
    "        self.a=a\n",
    "        self.b=b\n",
    "    def addition(self):\n",
    "        return self.a+self.b\n",
    "class add1(add):\n",
    "    pass\n",
    "class add2(add1):\n",
    "    pass"
   ]
  },
  {
   "cell_type": "code",
   "execution_count": 11,
   "id": "62d50eaf",
   "metadata": {},
   "outputs": [],
   "source": [
    "b=add(1,2)"
   ]
  },
  {
   "cell_type": "code",
   "execution_count": 12,
   "id": "8007bd87",
   "metadata": {},
   "outputs": [
    {
     "data": {
      "text/plain": [
       "3"
      ]
     },
     "execution_count": 12,
     "metadata": {},
     "output_type": "execute_result"
    }
   ],
   "source": [
    "b.addition()"
   ]
  },
  {
   "cell_type": "code",
   "execution_count": 14,
   "id": "b1e0001d",
   "metadata": {},
   "outputs": [],
   "source": [
    "c=add1(3,4)"
   ]
  },
  {
   "cell_type": "code",
   "execution_count": 15,
   "id": "f57ff244",
   "metadata": {},
   "outputs": [
    {
     "data": {
      "text/plain": [
       "3"
      ]
     },
     "execution_count": 15,
     "metadata": {},
     "output_type": "execute_result"
    }
   ],
   "source": [
    "c.a"
   ]
  },
  {
   "cell_type": "code",
   "execution_count": 16,
   "id": "6e0ffd9f",
   "metadata": {},
   "outputs": [
    {
     "data": {
      "text/plain": [
       "4"
      ]
     },
     "execution_count": 16,
     "metadata": {},
     "output_type": "execute_result"
    }
   ],
   "source": [
    "c.b"
   ]
  },
  {
   "cell_type": "code",
   "execution_count": 17,
   "id": "c2b2c81e",
   "metadata": {},
   "outputs": [
    {
     "data": {
      "text/plain": [
       "7"
      ]
     },
     "execution_count": 17,
     "metadata": {},
     "output_type": "execute_result"
    }
   ],
   "source": [
    "c.addition()"
   ]
  },
  {
   "cell_type": "code",
   "execution_count": 19,
   "id": "7eb7b95a",
   "metadata": {},
   "outputs": [],
   "source": [
    "d=add2(5,6)"
   ]
  },
  {
   "cell_type": "code",
   "execution_count": 20,
   "id": "52f8eba3",
   "metadata": {},
   "outputs": [
    {
     "data": {
      "text/plain": [
       "11"
      ]
     },
     "execution_count": 20,
     "metadata": {},
     "output_type": "execute_result"
    }
   ],
   "source": [
    "d.addition()"
   ]
  },
  {
   "cell_type": "code",
   "execution_count": 29,
   "id": "f2b1fdf1",
   "metadata": {},
   "outputs": [],
   "source": [
    "class first:\n",
    "    def test(self):\n",
    "        print(\"this is my first class\")\n",
    "class second:\n",
    "    def test1(self):\n",
    "        print(\"this is my second class\")\n",
    "class third(first,second):\n",
    "    pass\n",
    "    "
   ]
  },
  {
   "cell_type": "code",
   "execution_count": 30,
   "id": "9756065e",
   "metadata": {},
   "outputs": [],
   "source": [
    "b=third()"
   ]
  },
  {
   "cell_type": "code",
   "execution_count": 31,
   "id": "c8e5667c",
   "metadata": {},
   "outputs": [
    {
     "name": "stdout",
     "output_type": "stream",
     "text": [
      "this is my second class\n"
     ]
    }
   ],
   "source": [
    "b.test1()"
   ]
  },
  {
   "cell_type": "code",
   "execution_count": 32,
   "id": "b3dece98",
   "metadata": {},
   "outputs": [
    {
     "name": "stdout",
     "output_type": "stream",
     "text": [
      "this is my first class\n"
     ]
    }
   ],
   "source": [
    "b.test()"
   ]
  },
  {
   "cell_type": "code",
   "execution_count": 33,
   "id": "77c2004e",
   "metadata": {},
   "outputs": [],
   "source": [
    "class check(Exception):\n",
    "    def __init__(self,msg):\n",
    "        self.msg=msg\n",
    "b=check(\"this is my own class\")"
   ]
  },
  {
   "cell_type": "code",
   "execution_count": 34,
   "id": "a29bf00c",
   "metadata": {},
   "outputs": [
    {
     "data": {
      "text/plain": [
       "'this is my own class'"
      ]
     },
     "execution_count": 34,
     "metadata": {},
     "output_type": "execute_result"
    }
   ],
   "source": [
    "b.msg"
   ]
  },
  {
   "cell_type": "code",
   "execution_count": 35,
   "id": "e72a4f1d",
   "metadata": {},
   "outputs": [
    {
     "name": "stdout",
     "output_type": "stream",
     "text": [
      "this is my own exception class\n"
     ]
    }
   ],
   "source": [
    "try:\n",
    "    raise(check(\"this is my own exception class\"))\n",
    "except check as c:\n",
    "    print(c)"
   ]
  },
  {
   "cell_type": "code",
   "execution_count": 36,
   "id": "097a616e",
   "metadata": {},
   "outputs": [],
   "source": [
    "class watsapp:\n",
    "    def contact(self):\n",
    "        print (\"this is contact from watsapp\")\n",
    "class twitter:\n",
    "    def contact(self):\n",
    "        print(\"this is contact from twitter\")"
   ]
  },
  {
   "cell_type": "code",
   "execution_count": 37,
   "id": "a226da74",
   "metadata": {},
   "outputs": [],
   "source": [
    "def console(app):\n",
    "        app.contact()"
   ]
  },
  {
   "cell_type": "code",
   "execution_count": 38,
   "id": "c235ce19",
   "metadata": {},
   "outputs": [],
   "source": [
    "w=watsapp()\n",
    "t=twitter()"
   ]
  },
  {
   "cell_type": "code",
   "execution_count": 39,
   "id": "997c3852",
   "metadata": {},
   "outputs": [
    {
     "name": "stdout",
     "output_type": "stream",
     "text": [
      "this is contact from watsapp\n"
     ]
    }
   ],
   "source": [
    "console(w)"
   ]
  },
  {
   "cell_type": "code",
   "execution_count": 40,
   "id": "dab5e43c",
   "metadata": {},
   "outputs": [
    {
     "name": "stdout",
     "output_type": "stream",
     "text": [
      "this is contact from twitter\n"
     ]
    }
   ],
   "source": [
    "console(t)"
   ]
  },
  {
   "cell_type": "code",
   "execution_count": 2,
   "id": "fcfe85c3",
   "metadata": {},
   "outputs": [],
   "source": [
    "#decorator concept\n",
    "class accountdetails:\n",
    "    accountno=\"523623823929\"\n",
    "    def __init__(self,amount):\n",
    "        self.amount=self.amount\n",
    "    def showbalance(self, deduction):\n",
    "        self.amount=self.amount-deduction\n",
    "        return self.amount,accountno"
   ]
  },
  {
   "cell_type": "code",
   "execution_count": null,
   "id": "4e78e159",
   "metadata": {},
   "outputs": [],
   "source": []
  }
 ],
 "metadata": {
  "kernelspec": {
   "display_name": "Python 3 (ipykernel)",
   "language": "python",
   "name": "python3"
  },
  "language_info": {
   "codemirror_mode": {
    "name": "ipython",
    "version": 3
   },
   "file_extension": ".py",
   "mimetype": "text/x-python",
   "name": "python",
   "nbconvert_exporter": "python",
   "pygments_lexer": "ipython3",
   "version": "3.10.4"
  }
 },
 "nbformat": 4,
 "nbformat_minor": 5
}

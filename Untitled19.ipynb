{
 "cells": [
  {
   "cell_type": "code",
   "execution_count": 1,
   "id": "aa5e5a7c",
   "metadata": {},
   "outputs": [],
   "source": [
    "class abc:\n",
    "    pass"
   ]
  },
  {
   "cell_type": "code",
   "execution_count": 3,
   "id": "74a3915e",
   "metadata": {},
   "outputs": [],
   "source": [
    "#example of abstract\n",
    "class data_project:\n",
    "    def read_file(self):\n",
    "        pass\n",
    "    def validate_filename(self):\n",
    "        pass\n",
    "    def validate_datatype(self):\n",
    "        pass\n",
    "    def validate_dbconn(self):\n",
    "        pass\n",
    "    def validate_create_conn(self):\n",
    "        pass\n",
    "    def insert_datafunc(self):\n",
    "        pass\n",
    "    def delete_datafunc(self):\n",
    "        pass\n",
    "    def update_data(self):\n",
    "        pass\n",
    "    def perform_stats(self):\n",
    "        pass"
   ]
  },
  {
   "cell_type": "code",
   "execution_count": 10,
   "id": "69523185",
   "metadata": {},
   "outputs": [],
   "source": [
    "#overloading\n",
    "class test:\n",
    "    def __init__(self,a,b,c):\n",
    "        self.a=a\n",
    "        self.b=b\n",
    "        self.c=c\n",
    "        \n",
    "    def __str__(self):\n",
    "        return(\"this is the msg of overloaded object\")\n"
   ]
  },
  {
   "cell_type": "code",
   "execution_count": 11,
   "id": "25acf865",
   "metadata": {},
   "outputs": [],
   "source": [
    "t=test(4,5,6)"
   ]
  },
  {
   "cell_type": "code",
   "execution_count": 12,
   "id": "fbf228aa",
   "metadata": {},
   "outputs": [
    {
     "data": {
      "text/plain": [
       "<__main__.test at 0x105a62080>"
      ]
     },
     "execution_count": 12,
     "metadata": {},
     "output_type": "execute_result"
    }
   ],
   "source": [
    "t"
   ]
  },
  {
   "cell_type": "code",
   "execution_count": 13,
   "id": "4815caa9",
   "metadata": {},
   "outputs": [
    {
     "name": "stdout",
     "output_type": "stream",
     "text": [
      "this is the msg of overloaded object\n"
     ]
    }
   ],
   "source": [
    "print(t)"
   ]
  },
  {
   "cell_type": "code",
   "execution_count": 14,
   "id": "f9660dec",
   "metadata": {},
   "outputs": [],
   "source": [
    "def xyz(*args):\n",
    "    return args"
   ]
  },
  {
   "cell_type": "code",
   "execution_count": 15,
   "id": "744ea2f3",
   "metadata": {},
   "outputs": [
    {
     "data": {
      "text/plain": [
       "(1, 2, 3, 4, 5)"
      ]
     },
     "execution_count": 15,
     "metadata": {},
     "output_type": "execute_result"
    }
   ],
   "source": [
    "xyz(1,2,3,4,5)"
   ]
  },
  {
   "cell_type": "code",
   "execution_count": 16,
   "id": "89175888",
   "metadata": {},
   "outputs": [
    {
     "data": {
      "text/plain": [
       "(6, 7, 8, 9)"
      ]
     },
     "execution_count": 16,
     "metadata": {},
     "output_type": "execute_result"
    }
   ],
   "source": [
    "xyz(6,7,8,9)"
   ]
  },
  {
   "cell_type": "code",
   "execution_count": 17,
   "id": "a822bb31",
   "metadata": {},
   "outputs": [],
   "source": [
    "#overriding\n",
    "class test:\n",
    "    def __init__(self,a,b,c):\n",
    "        self.a=a\n",
    "        self.b=b\n",
    "        self.c=c\n",
    "        \n",
    "    def __str__(self):\n",
    "        return(\"this is the msg of overloaded object\")\n",
    "\n",
    "    def class_fun(self):\n",
    "        print(\"this is print fun\")\n",
    "class test1(test):\n",
    "    def class_fun(self):\n",
    "        print(\"this is overriding\")"
   ]
  },
  {
   "cell_type": "code",
   "execution_count": 18,
   "id": "cee2120a",
   "metadata": {},
   "outputs": [],
   "source": [
    "t1=test(1,2,3)\n",
    "t2=test1(4,5,6)"
   ]
  },
  {
   "cell_type": "code",
   "execution_count": 19,
   "id": "8ad50754",
   "metadata": {},
   "outputs": [
    {
     "name": "stdout",
     "output_type": "stream",
     "text": [
      "this is print fun\n"
     ]
    }
   ],
   "source": [
    "t1.class_fun()"
   ]
  },
  {
   "cell_type": "code",
   "execution_count": 20,
   "id": "5c7456e0",
   "metadata": {},
   "outputs": [
    {
     "name": "stdout",
     "output_type": "stream",
     "text": [
      "this is overriding\n"
     ]
    }
   ],
   "source": [
    "t2.class_fun()"
   ]
  },
  {
   "cell_type": "code",
   "execution_count": null,
   "id": "6359e41b",
   "metadata": {},
   "outputs": [],
   "source": []
  }
 ],
 "metadata": {
  "kernelspec": {
   "display_name": "Python 3 (ipykernel)",
   "language": "python",
   "name": "python3"
  },
  "language_info": {
   "codemirror_mode": {
    "name": "ipython",
    "version": 3
   },
   "file_extension": ".py",
   "mimetype": "text/x-python",
   "name": "python",
   "nbconvert_exporter": "python",
   "pygments_lexer": "ipython3",
   "version": "3.10.4"
  }
 },
 "nbformat": 4,
 "nbformat_minor": 5
}

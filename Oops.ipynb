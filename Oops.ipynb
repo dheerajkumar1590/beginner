{
 "cells": [
  {
   "cell_type": "code",
   "execution_count": 1,
   "id": "3031d325",
   "metadata": {},
   "outputs": [
    {
     "data": {
      "text/plain": [
       "'Dheeraj'"
      ]
     },
     "execution_count": 1,
     "metadata": {},
     "output_type": "execute_result"
    }
   ],
   "source": [
    "\"Dheeraj\""
   ]
  },
  {
   "cell_type": "code",
   "execution_count": 2,
   "id": "9db7a8de",
   "metadata": {},
   "outputs": [
    {
     "data": {
      "text/plain": [
       "'Kumar'"
      ]
     },
     "execution_count": 2,
     "metadata": {},
     "output_type": "execute_result"
    }
   ],
   "source": [
    "\"Kumar\""
   ]
  },
  {
   "cell_type": "code",
   "execution_count": 3,
   "id": "48acbf39",
   "metadata": {},
   "outputs": [],
   "source": [
    "class car:\n",
    "    pass"
   ]
  },
  {
   "cell_type": "code",
   "execution_count": 8,
   "id": "76559504",
   "metadata": {},
   "outputs": [],
   "source": [
    "class car:\n",
    "    def __init__(self,brand_name,fueltype,body_type):\n",
    "        self.brand_name=brand_name\n",
    "        self.fueltype=fueltype\n",
    "        self.body_type=body_type\n",
    "        \n",
    "    def desc_car(self):\n",
    "        print(self.brand_name,self.fueltype,self.body_type)\n",
    "        "
   ]
  },
  {
   "cell_type": "code",
   "execution_count": 12,
   "id": "de945d8d",
   "metadata": {},
   "outputs": [],
   "source": [
    "innova=car(\"toyota\",\"petrol\",\"suv\")\n",
    "Nexon=car(\"tata\",\"diesel\",\"suv\")\n",
    "fortuner=car(\"toyota\",\"diesel\",\"suv\")"
   ]
  },
  {
   "cell_type": "code",
   "execution_count": 13,
   "id": "8368ed4c",
   "metadata": {},
   "outputs": [
    {
     "name": "stdout",
     "output_type": "stream",
     "text": [
      "toyota petrol suv\n"
     ]
    }
   ],
   "source": [
    " innova.desc_car()"
   ]
  },
  {
   "cell_type": "code",
   "execution_count": 14,
   "id": "1ad9f943",
   "metadata": {},
   "outputs": [
    {
     "data": {
      "text/plain": [
       "'toyota'"
      ]
     },
     "execution_count": 14,
     "metadata": {},
     "output_type": "execute_result"
    }
   ],
   "source": [
    "innova.brand_name"
   ]
  },
  {
   "cell_type": "code",
   "execution_count": 15,
   "id": "8d0ec8ec",
   "metadata": {},
   "outputs": [
    {
     "data": {
      "text/plain": [
       "'tata'"
      ]
     },
     "execution_count": 15,
     "metadata": {},
     "output_type": "execute_result"
    }
   ],
   "source": [
    "Nexon.brand_name"
   ]
  },
  {
   "cell_type": "code",
   "execution_count": 7,
   "id": "a3985c57",
   "metadata": {},
   "outputs": [],
   "source": [
    "class car:\n",
    "    def __init__(self,body_type,engine,fuel_type):\n",
    "        self.body_type1=body_type\n",
    "        self.engine=engine\n",
    "        self.fuel_type=fuel_type\n",
    "    \n",
    "    def test(self):\n",
    "        print(\"this is my first method inside my car class\")    "
   ]
  },
  {
   "cell_type": "code",
   "execution_count": 8,
   "id": "968bd521",
   "metadata": {},
   "outputs": [],
   "source": [
    "fortuner=car(\"suv\",\"bs4\",\"petrol\")"
   ]
  },
  {
   "cell_type": "code",
   "execution_count": 9,
   "id": "532d46b8",
   "metadata": {},
   "outputs": [],
   "source": [
    " nexon=car(\"suv\",\"abc\",\"petrol\")"
   ]
  },
  {
   "cell_type": "code",
   "execution_count": 10,
   "id": "86846315",
   "metadata": {},
   "outputs": [
    {
     "data": {
      "text/plain": [
       "'suv'"
      ]
     },
     "execution_count": 10,
     "metadata": {},
     "output_type": "execute_result"
    }
   ],
   "source": [
    "fortuner.body_type1"
   ]
  },
  {
   "cell_type": "code",
   "execution_count": 11,
   "id": "95b1e07a",
   "metadata": {},
   "outputs": [
    {
     "data": {
      "text/plain": [
       "'abc'"
      ]
     },
     "execution_count": 11,
     "metadata": {},
     "output_type": "execute_result"
    }
   ],
   "source": [
    "nexon.engine "
   ]
  },
  {
   "cell_type": "code",
   "execution_count": 12,
   "id": "49f70822",
   "metadata": {},
   "outputs": [
    {
     "name": "stdout",
     "output_type": "stream",
     "text": [
      "this is my first method inside my car class\n"
     ]
    }
   ],
   "source": [
    "fortuner.test()"
   ]
  },
  {
   "cell_type": "code",
   "execution_count": 18,
   "id": "9be10f07",
   "metadata": {},
   "outputs": [],
   "source": [
    "class list_par:\n",
    "    def __init__(self,l):\n",
    "        self.l=l\n",
    "    def par(self):\n",
    "        if type(self.l)==list:\n",
    "            for i in self.l :\n",
    "                print(i)\n",
    "    def rever(self):\n",
    "        if type(self.l)==list:\n",
    "            return self.l[::-1]"
   ]
  },
  {
   "cell_type": "code",
   "execution_count": 19,
   "id": "bf18940d",
   "metadata": {},
   "outputs": [
    {
     "name": "stdout",
     "output_type": "stream",
     "text": [
      "1\n",
      "2\n",
      "3\n",
      "4\n"
     ]
    }
   ],
   "source": [
    "c=list_par([1,2,3,4])\n",
    "c.par()"
   ]
  },
  {
   "cell_type": "code",
   "execution_count": 21,
   "id": "a884b05e",
   "metadata": {},
   "outputs": [
    {
     "data": {
      "text/plain": [
       "[4, 3, 2, 1]"
      ]
     },
     "execution_count": 21,
     "metadata": {},
     "output_type": "execute_result"
    }
   ],
   "source": [
    "c.rever()"
   ]
  },
  {
   "cell_type": "code",
   "execution_count": 22,
   "id": "255c3fec",
   "metadata": {},
   "outputs": [],
   "source": [
    "b=list_par([7,8,9,10])"
   ]
  },
  {
   "cell_type": "code",
   "execution_count": 23,
   "id": "a5609689",
   "metadata": {},
   "outputs": [
    {
     "name": "stdout",
     "output_type": "stream",
     "text": [
      "7\n",
      "8\n",
      "9\n",
      "10\n"
     ]
    }
   ],
   "source": [
    "b.par()"
   ]
  },
  {
   "cell_type": "code",
   "execution_count": 25,
   "id": "d1cf0b38",
   "metadata": {},
   "outputs": [
    {
     "data": {
      "text/plain": [
       "[10, 9, 8, 7]"
      ]
     },
     "execution_count": 25,
     "metadata": {},
     "output_type": "execute_result"
    }
   ],
   "source": [
    "b.rever()"
   ]
  },
  {
   "cell_type": "code",
   "execution_count": 85,
   "id": "9c4110e2",
   "metadata": {},
   "outputs": [],
   "source": [
    "class dic:\n",
    "    #initiating the dictionary for class dic\n",
    "    def __init__(self,d):\n",
    "        self.d=d\n",
    "    # extracting the values\n",
    "    def val(self):\n",
    "        if self.not_dict():\n",
    "            return list(self.d.values())\n",
    "    #extracting the keys from the dictionary\n",
    "    def key(self):\n",
    "        if self.not_dict():\n",
    "            return list(self.d.keys())\n",
    "    #checking the input is dictionary or not\n",
    "    def not_dict(self):\n",
    "        if type(self.d)!=dict:\n",
    "            raise Exception(self.d,\"not a dictionary\")\n",
    "        return 1\n",
    "    #Entering the key and values and making a dictionary\n",
    "    def enter(self):\n",
    "        self.d=eval(input())\n",
    "        print(self.d,type(self.d))\n",
    "        print(self.key())\n",
    "        print(self.val())\n",
    "    # Inserting the dictionary inside the dictionary\n",
    "    def insert(self,k,v):\n",
    "        self.d[k]=v\n",
    "        print(self.key())\n",
    "        print(self.val())\n",
    "        \n",
    "        "
   ]
  },
  {
   "cell_type": "code",
   "execution_count": 86,
   "id": "520c9f7a",
   "metadata": {},
   "outputs": [],
   "source": [
    "a={\"b\":1,\"c\":[3,4,5],\"d\":\"dsf\"}"
   ]
  },
  {
   "cell_type": "code",
   "execution_count": 87,
   "id": "d0d510dd",
   "metadata": {},
   "outputs": [
    {
     "name": "stdout",
     "output_type": "stream",
     "text": [
      "dict_values([1, [3, 4, 5], 'dsf'])\n"
     ]
    }
   ],
   "source": [
    "print(a.values())"
   ]
  },
  {
   "cell_type": "code",
   "execution_count": 88,
   "id": "ff96b63b",
   "metadata": {},
   "outputs": [
    {
     "name": "stdout",
     "output_type": "stream",
     "text": [
      "dict_keys(['b', 'c', 'd'])\n"
     ]
    }
   ],
   "source": [
    "print(a.keys())"
   ]
  },
  {
   "cell_type": "code",
   "execution_count": 89,
   "id": "4f9741df",
   "metadata": {},
   "outputs": [],
   "source": [
    "b=dic({\"c\":2,\"d\":\"dheeraj\",\"e\":[1,2,3,4],\"f\":\"kumar\"})"
   ]
  },
  {
   "cell_type": "code",
   "execution_count": 90,
   "id": "67a1aa04",
   "metadata": {},
   "outputs": [
    {
     "data": {
      "text/plain": [
       "1"
      ]
     },
     "execution_count": 90,
     "metadata": {},
     "output_type": "execute_result"
    }
   ],
   "source": [
    "b.not_dict()"
   ]
  },
  {
   "cell_type": "code",
   "execution_count": 91,
   "id": "efcd85c2",
   "metadata": {},
   "outputs": [
    {
     "data": {
      "text/plain": [
       "[2, 'dheeraj', [1, 2, 3, 4], 'kumar']"
      ]
     },
     "execution_count": 91,
     "metadata": {},
     "output_type": "execute_result"
    }
   ],
   "source": [
    "b.val()"
   ]
  },
  {
   "cell_type": "code",
   "execution_count": 92,
   "id": "9479866d",
   "metadata": {},
   "outputs": [
    {
     "data": {
      "text/plain": [
       "['c', 'd', 'e', 'f']"
      ]
     },
     "execution_count": 92,
     "metadata": {},
     "output_type": "execute_result"
    }
   ],
   "source": [
    "b.key()"
   ]
  },
  {
   "cell_type": "code",
   "execution_count": 93,
   "id": "bb0d1ac5",
   "metadata": {},
   "outputs": [],
   "source": [
    "c=dic([1,2,3,4])"
   ]
  },
  {
   "cell_type": "code",
   "execution_count": 94,
   "id": "b117e84e",
   "metadata": {},
   "outputs": [
    {
     "name": "stdout",
     "output_type": "stream",
     "text": [
      "{\"k1\":1,\"k2\":34}\n",
      "{'k1': 1, 'k2': 34} <class 'dict'>\n",
      "['k1', 'k2']\n",
      "[1, 34]\n"
     ]
    }
   ],
   "source": [
    "c.enter()"
   ]
  },
  {
   "cell_type": "code",
   "execution_count": 95,
   "id": "9c873278",
   "metadata": {},
   "outputs": [
    {
     "name": "stdout",
     "output_type": "stream",
     "text": [
      "\n"
     ]
    },
    {
     "data": {
      "text/plain": [
       "NoneType"
      ]
     },
     "execution_count": 95,
     "metadata": {},
     "output_type": "execute_result"
    }
   ],
   "source": []
  },
  {
   "cell_type": "code",
   "execution_count": 1,
   "id": "b545cd05",
   "metadata": {},
   "outputs": [
    {
     "data": {
      "text/plain": [
       "<_io.TextIOWrapper name='mydict,py' mode='w' encoding='UTF-8'>"
      ]
     },
     "execution_count": 1,
     "metadata": {},
     "output_type": "execute_result"
    }
   ],
   "source": [
    "open(\"mydict,py\",\"w\")"
   ]
  },
  {
   "cell_type": "code",
   "execution_count": 4,
   "id": "fdc0c959",
   "metadata": {},
   "outputs": [
    {
     "ename": "NameError",
     "evalue": "name 'close' is not defined",
     "output_type": "error",
     "traceback": [
      "\u001b[0;31m---------------------------------------------------------------------------\u001b[0m",
      "\u001b[0;31mNameError\u001b[0m                                 Traceback (most recent call last)",
      "Input \u001b[0;32mIn [4]\u001b[0m, in \u001b[0;36m<cell line: 1>\u001b[0;34m()\u001b[0m\n\u001b[0;32m----> 1\u001b[0m \u001b[43mclose\u001b[49m(\u001b[38;5;124m\"\u001b[39m\u001b[38;5;124mmydict.py\u001b[39m\u001b[38;5;124m\"\u001b[39m)\n",
      "\u001b[0;31mNameError\u001b[0m: name 'close' is not defined"
     ]
    }
   ],
   "source": [
    "d=mydict."
   ]
  },
  {
   "cell_type": "code",
   "execution_count": 37,
   "id": "4707d013",
   "metadata": {},
   "outputs": [],
   "source": [
    "class listing:\n",
    "    #this is the class for performing list operations\n",
    "    #import logging\n",
    "    #logging.basicConfig(filename=\"listlog.log\",level=logging.DEBUG,format= '%(asctime)s%(levelname)s%(message)s')\n",
    "    \n",
    "    # this function will initialise the list\n",
    "    def __init__(self,a):\n",
    "        #logging.info(\"this is the info log\")\n",
    "        self.a=a\n",
    "    def check(self):\n",
    "        try :\n",
    "            if type(self.a)==list:\n",
    "                print(\"this is  a list\")\n",
    "                return 1\n",
    "            #logging.debug(type(self.a)!=list)\n",
    "        except Exception as a:\n",
    "            print(a)\n",
    "            #logging.error(a)\n",
    "            #logging.exception(\"exception has happened\")\n",
    "            return 1\n",
    "    \n",
    "    #this function will help in adding elements in the list\n",
    "    def add(self):\n",
    "        #logging.info(\"enter the items you want to enter in the list\")\n",
    "        b=int(input())\n",
    "        self.a[range+1]=b\n",
    "        #logging.info(\"New list is \",self.a)\n",
    "        \n",
    "                      "
   ]
  },
  {
   "cell_type": "code",
   "execution_count": 38,
   "id": "cbd1fba1",
   "metadata": {},
   "outputs": [],
   "source": [
    "d=listing((1,2,3,4))"
   ]
  },
  {
   "cell_type": "code",
   "execution_count": 39,
   "id": "13084730",
   "metadata": {},
   "outputs": [],
   "source": [
    "d.check()"
   ]
  },
  {
   "cell_type": "code",
   "execution_count": null,
   "id": "6aad6132",
   "metadata": {},
   "outputs": [],
   "source": []
  }
 ],
 "metadata": {
  "kernelspec": {
   "display_name": "Python 3 (ipykernel)",
   "language": "python",
   "name": "python3"
  },
  "language_info": {
   "codemirror_mode": {
    "name": "ipython",
    "version": 3
   },
   "file_extension": ".py",
   "mimetype": "text/x-python",
   "name": "python",
   "nbconvert_exporter": "python",
   "pygments_lexer": "ipython3",
   "version": "3.10.4"
  }
 },
 "nbformat": 4,
 "nbformat_minor": 5
}

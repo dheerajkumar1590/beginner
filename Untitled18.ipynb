{
 "cells": [
  {
   "cell_type": "code",
   "execution_count": 1,
   "id": "594a9554",
   "metadata": {},
   "outputs": [],
   "source": [
    "a=1"
   ]
  },
  {
   "cell_type": "code",
   "execution_count": 2,
   "id": "01e764b9",
   "metadata": {},
   "outputs": [
    {
     "data": {
      "text/plain": [
       "int"
      ]
     },
     "execution_count": 2,
     "metadata": {},
     "output_type": "execute_result"
    }
   ],
   "source": [
    "type(a)"
   ]
  },
  {
   "cell_type": "code",
   "execution_count": 4,
   "id": "ebe6ff8b",
   "metadata": {},
   "outputs": [
    {
     "name": "stdout",
     "output_type": "stream",
     "text": [
      "this is my revision program\n"
     ]
    }
   ],
   "source": [
    "print(\"this is my revision program\")"
   ]
  },
  {
   "cell_type": "code",
   "execution_count": 5,
   "id": "9c18eb0f",
   "metadata": {},
   "outputs": [],
   "source": [
    "b=1+6j"
   ]
  },
  {
   "cell_type": "code",
   "execution_count": 6,
   "id": "101a5744",
   "metadata": {},
   "outputs": [
    {
     "data": {
      "text/plain": [
       "complex"
      ]
     },
     "execution_count": 6,
     "metadata": {},
     "output_type": "execute_result"
    }
   ],
   "source": [
    "type(b)"
   ]
  },
  {
   "cell_type": "code",
   "execution_count": 7,
   "id": "6802802a",
   "metadata": {},
   "outputs": [],
   "source": [
    "a=\"dheeraj\""
   ]
  },
  {
   "cell_type": "code",
   "execution_count": 8,
   "id": "1f239841",
   "metadata": {},
   "outputs": [
    {
     "data": {
      "text/plain": [
       "'jareehd'"
      ]
     },
     "execution_count": 8,
     "metadata": {},
     "output_type": "execute_result"
    }
   ],
   "source": [
    "a[::-1]"
   ]
  },
  {
   "cell_type": "code",
   "execution_count": 9,
   "id": "bf83e366",
   "metadata": {},
   "outputs": [
    {
     "data": {
      "text/plain": [
       "'dheeraj'"
      ]
     },
     "execution_count": 9,
     "metadata": {},
     "output_type": "execute_result"
    }
   ],
   "source": [
    "a[0::]"
   ]
  },
  {
   "cell_type": "code",
   "execution_count": 10,
   "id": "840668c5",
   "metadata": {},
   "outputs": [
    {
     "data": {
      "text/plain": [
       "['dheeraj']"
      ]
     },
     "execution_count": 10,
     "metadata": {},
     "output_type": "execute_result"
    }
   ],
   "source": [
    "a.split()"
   ]
  },
  {
   "cell_type": "code",
   "execution_count": 11,
   "id": "41559605",
   "metadata": {},
   "outputs": [
    {
     "data": {
      "text/plain": [
       "['dh', '', 'raj']"
      ]
     },
     "execution_count": 11,
     "metadata": {},
     "output_type": "execute_result"
    }
   ],
   "source": [
    "a.split('e')"
   ]
  },
  {
   "cell_type": "code",
   "execution_count": 12,
   "id": "455cd731",
   "metadata": {},
   "outputs": [
    {
     "data": {
      "text/plain": [
       "'Dheeraj'"
      ]
     },
     "execution_count": 12,
     "metadata": {},
     "output_type": "execute_result"
    }
   ],
   "source": [
    "a.capitalize()"
   ]
  },
  {
   "cell_type": "code",
   "execution_count": 13,
   "id": "bdabbfce",
   "metadata": {},
   "outputs": [
    {
     "data": {
      "text/plain": [
       "False"
      ]
     },
     "execution_count": 13,
     "metadata": {},
     "output_type": "execute_result"
    }
   ],
   "source": [
    "a.startswith('k')"
   ]
  },
  {
   "cell_type": "code",
   "execution_count": 14,
   "id": "e83185dd",
   "metadata": {},
   "outputs": [],
   "source": [
    "a=[1,2,3,4]"
   ]
  },
  {
   "cell_type": "code",
   "execution_count": 15,
   "id": "21290b77",
   "metadata": {},
   "outputs": [
    {
     "data": {
      "text/plain": [
       "list"
      ]
     },
     "execution_count": 15,
     "metadata": {},
     "output_type": "execute_result"
    }
   ],
   "source": [
    "type(a)"
   ]
  },
  {
   "cell_type": "code",
   "execution_count": 16,
   "id": "c61b252d",
   "metadata": {},
   "outputs": [],
   "source": [
    "a.append(\"dheeraj\")"
   ]
  },
  {
   "cell_type": "code",
   "execution_count": 17,
   "id": "de590a8b",
   "metadata": {},
   "outputs": [
    {
     "data": {
      "text/plain": [
       "[1, 2, 3, 4, 'dheeraj']"
      ]
     },
     "execution_count": 17,
     "metadata": {},
     "output_type": "execute_result"
    }
   ],
   "source": [
    "a"
   ]
  },
  {
   "cell_type": "code",
   "execution_count": 18,
   "id": "5b3d31a5",
   "metadata": {},
   "outputs": [],
   "source": [
    "a.extend(\"kumar\")"
   ]
  },
  {
   "cell_type": "code",
   "execution_count": 19,
   "id": "36b45c48",
   "metadata": {},
   "outputs": [
    {
     "data": {
      "text/plain": [
       "[1, 2, 3, 4, 'dheeraj', 'k', 'u', 'm', 'a', 'r']"
      ]
     },
     "execution_count": 19,
     "metadata": {},
     "output_type": "execute_result"
    }
   ],
   "source": [
    "a"
   ]
  },
  {
   "cell_type": "code",
   "execution_count": 20,
   "id": "2e5482f9",
   "metadata": {},
   "outputs": [
    {
     "data": {
      "text/plain": [
       "1"
      ]
     },
     "execution_count": 20,
     "metadata": {},
     "output_type": "execute_result"
    }
   ],
   "source": [
    "a.count('r')"
   ]
  },
  {
   "cell_type": "code",
   "execution_count": 21,
   "id": "6871a4c2",
   "metadata": {},
   "outputs": [],
   "source": [
    "a.extend('r')"
   ]
  },
  {
   "cell_type": "code",
   "execution_count": 22,
   "id": "e1d25c6f",
   "metadata": {},
   "outputs": [
    {
     "data": {
      "text/plain": [
       "2"
      ]
     },
     "execution_count": 22,
     "metadata": {},
     "output_type": "execute_result"
    }
   ],
   "source": [
    "a.count('r')"
   ]
  },
  {
   "cell_type": "code",
   "execution_count": 23,
   "id": "a526cfe3",
   "metadata": {},
   "outputs": [
    {
     "data": {
      "text/plain": [
       "4"
      ]
     },
     "execution_count": 23,
     "metadata": {},
     "output_type": "execute_result"
    }
   ],
   "source": [
    "a.index(\"dheeraj\")"
   ]
  },
  {
   "cell_type": "code",
   "execution_count": 26,
   "id": "8ef8630d",
   "metadata": {},
   "outputs": [],
   "source": [
    "a.insert(2,\"hi\")"
   ]
  },
  {
   "cell_type": "code",
   "execution_count": 27,
   "id": "6374a19d",
   "metadata": {},
   "outputs": [
    {
     "data": {
      "text/plain": [
       "[1, 2, 'hi', 3, 4, 'dheeraj', 'k', 'u', 'm', 'a', 'r', 'r']"
      ]
     },
     "execution_count": 27,
     "metadata": {},
     "output_type": "execute_result"
    }
   ],
   "source": [
    "a"
   ]
  },
  {
   "cell_type": "code",
   "execution_count": 28,
   "id": "a52a3d98",
   "metadata": {},
   "outputs": [],
   "source": [
    "b=(1,2,3,4)"
   ]
  },
  {
   "cell_type": "code",
   "execution_count": 29,
   "id": "5f4c999a",
   "metadata": {},
   "outputs": [
    {
     "data": {
      "text/plain": [
       "1"
      ]
     },
     "execution_count": 29,
     "metadata": {},
     "output_type": "execute_result"
    }
   ],
   "source": [
    "b.count(2)"
   ]
  },
  {
   "cell_type": "code",
   "execution_count": 31,
   "id": "bd810c8b",
   "metadata": {},
   "outputs": [
    {
     "name": "stdout",
     "output_type": "stream",
     "text": [
      "184\n"
     ]
    }
   ],
   "source": [
    "import sys\n",
    "print(sys.getsizeof(a))"
   ]
  },
  {
   "cell_type": "code",
   "execution_count": 32,
   "id": "bbc398f1",
   "metadata": {},
   "outputs": [
    {
     "name": "stdout",
     "output_type": "stream",
     "text": [
      "72\n"
     ]
    }
   ],
   "source": [
    "print(sys.getsizeof(b))"
   ]
  },
  {
   "cell_type": "code",
   "execution_count": 39,
   "id": "35daa371",
   "metadata": {},
   "outputs": [
    {
     "name": "stdout",
     "output_type": "stream",
     "text": [
      "the new list is  [1, 4, 9, 16, 'dheeraj', 25, 36, 49, 64]\n"
     ]
    }
   ],
   "source": [
    "#extracting integer from list and make square of it and creating a new list\n",
    "l=[1,2,3,4,\"dheeraj\",[5,6,7,8]]\n",
    "j=[]\n",
    "for i in l:\n",
    "    if type(i)==int:\n",
    "        j.append(i**2)\n",
    "    elif type(i)==str:\n",
    "        j.append(i)\n",
    "    elif type(i)==list:\n",
    "        for k in i:\n",
    "            j.append(k**2)\n",
    "print(\"the new list is \",j)"
   ]
  },
  {
   "cell_type": "code",
   "execution_count": 42,
   "id": "4f1e7a63",
   "metadata": {},
   "outputs": [
    {
     "name": "stdout",
     "output_type": "stream",
     "text": [
      "total no of string in this list is  2\n"
     ]
    }
   ],
   "source": [
    "#checking of string in the list using while loop and if condition\n",
    "a=[1,2,3,4,5,8,\"dheeraj\",\"kumar\"]\n",
    "c=0\n",
    "d=0\n",
    "while(c<1):\n",
    "    for i in a:\n",
    "        if type (i)==str:\n",
    "            d+=1\n",
    "        else:\n",
    "            c=1\n",
    "print(\"total no of string in this list is \",d)\n",
    "                "
   ]
  },
  {
   "cell_type": "code",
   "execution_count": 3,
   "id": "8bcefa14",
   "metadata": {},
   "outputs": [
    {
     "name": "stdout",
     "output_type": "stream",
     "text": [
      "welcome to Guru Harkrishan Public School \n",
      " pls enter the name of the student\n",
      "hjk\n",
      "pls enter the marks obtained by the student subjectwise\n",
      "for physics89\n",
      "for Maths87\n",
      "for Chemistry67\n",
      "for English89\n",
      "total percentage of the student is 83.0 %\n"
     ]
    }
   ],
   "source": [
    "#calculating the total no. of marks and getting the percentage of each student\n",
    "print(\"welcome to Guru Harkrishan Public School\", \"\\n\", \"pls enter the name of the student\")\n",
    "a=input()\n",
    "print(\"pls enter the marks obtained by the student subjectwise\")\n",
    "b=int(input(\"for physics\"))\n",
    "c=int(input(\"for Maths\"))\n",
    "d=int(input(\"for Chemistry\"))\n",
    "e=int(input(\"for English\"))\n",
    "f=((b+c+d+e)/400)*100\n",
    "print (\"total percentage of the student is\",f,\"%\")"
   ]
  },
  {
   "cell_type": "code",
   "execution_count": 4,
   "id": "5d957f71",
   "metadata": {},
   "outputs": [],
   "source": [
    "from tkinter import *\n",
    "a=Tk()\n",
    "a.mainloop()"
   ]
  },
  {
   "cell_type": "code",
   "execution_count": 1,
   "id": "7567f904",
   "metadata": {},
   "outputs": [],
   "source": [
    "from tkinter import *\n",
    "a=Tk()\n",
    "l1=Label(a,text=\"dheeraj\")\n",
    "l1.pack()\n",
    "a.mainloop()"
   ]
  },
  {
   "cell_type": "code",
   "execution_count": null,
   "id": "fe78bc50",
   "metadata": {},
   "outputs": [],
   "source": []
  }
 ],
 "metadata": {
  "kernelspec": {
   "display_name": "Python 3 (ipykernel)",
   "language": "python",
   "name": "python3"
  },
  "language_info": {
   "codemirror_mode": {
    "name": "ipython",
    "version": 3
   },
   "file_extension": ".py",
   "mimetype": "text/x-python",
   "name": "python",
   "nbconvert_exporter": "python",
   "pygments_lexer": "ipython3",
   "version": "3.10.4"
  }
 },
 "nbformat": 4,
 "nbformat_minor": 5
}

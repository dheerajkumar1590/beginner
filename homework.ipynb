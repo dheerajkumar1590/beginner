{
 "cells": [
  {
   "cell_type": "code",
   "execution_count": 1,
   "id": "62c15132",
   "metadata": {},
   "outputs": [],
   "source": [
    "def func1(a):\n",
    "    if type(a)==str:\n",
    "        count=0\n",
    "        for i in a:\n",
    "            count+=1\n",
    "        return count\n",
    "            "
   ]
  },
  {
   "cell_type": "code",
   "execution_count": 2,
   "id": "75fbeeb6",
   "metadata": {},
   "outputs": [
    {
     "data": {
      "text/plain": [
       "7"
      ]
     },
     "execution_count": 2,
     "metadata": {},
     "output_type": "execute_result"
    }
   ],
   "source": [
    "func1(\"Dheeraj\")"
   ]
  },
  {
   "cell_type": "code",
   "execution_count": 9,
   "id": "beb91af0",
   "metadata": {},
   "outputs": [],
   "source": [
    "def func2(a):\n",
    "    if type(a)==list or type(a)==tuple or type(a)==str:\n",
    "        for i in range(len(a)):\n",
    "            print(\"index of\",a[i],\"is\",i)"
   ]
  },
  {
   "cell_type": "code",
   "execution_count": 10,
   "id": "80f77024",
   "metadata": {},
   "outputs": [
    {
     "name": "stdout",
     "output_type": "stream",
     "text": [
      "index of d is 0\n",
      "index of h is 1\n",
      "index of e is 2\n",
      "index of e is 3\n",
      "index of r is 4\n",
      "index of a is 5\n",
      "index of j is 6\n"
     ]
    }
   ],
   "source": [
    "func2(\"dheeraj\")"
   ]
  },
  {
   "cell_type": "code",
   "execution_count": 17,
   "id": "83c70ace",
   "metadata": {},
   "outputs": [],
   "source": [
    "def dic(a):\n",
    "    if type(a)==dict:\n",
    "        l=[]\n",
    "        for i in a.values():\n",
    "            if type(i)==dict:\n",
    "                for j in i.values():\n",
    "                    l.append(j)\n",
    "            else:\n",
    "                l.append(i)\n",
    "        return l"
   ]
  },
  {
   "cell_type": "code",
   "execution_count": 19,
   "id": "1accecbf",
   "metadata": {},
   "outputs": [
    {
     "data": {
      "text/plain": [
       "[1, 2, 4, 5, 4, 77]"
      ]
     },
     "execution_count": 19,
     "metadata": {},
     "output_type": "execute_result"
    }
   ],
   "source": [
    "dic({\"a\":1,\"b\":2,\"c\":{\"d\":4,\"e\":5},\"f\":{\"j\":4,\"k\":77}})"
   ]
  },
  {
   "cell_type": "code",
   "execution_count": 30,
   "id": "e171f77f",
   "metadata": {},
   "outputs": [],
   "source": [
    "def summ(a,b):\n",
    "    \"\"\"this function will add two nos.\"\"\"\n",
    "    c=sum1(a,b)\n",
    "    return c\n",
    "\n",
    "def sum1(a,b):\n",
    "    \"\"\"this function will \"\"\"\n",
    "    rc= a+b\n",
    "    return rc\n",
    "        "
   ]
  },
  {
   "cell_type": "code",
   "execution_count": 31,
   "id": "6832229a",
   "metadata": {},
   "outputs": [
    {
     "data": {
      "text/plain": [
       "13"
      ]
     },
     "execution_count": 31,
     "metadata": {},
     "output_type": "execute_result"
    }
   ],
   "source": [
    "summ(10,3)"
   ]
  },
  {
   "cell_type": "code",
   "execution_count": 34,
   "id": "bda5a144",
   "metadata": {},
   "outputs": [],
   "source": [
    "def con(*args):\n",
    "    \"\"\"this function will concatanate the lists given\"\"\"\n",
    "    l=[]\n",
    "    for i in args:\n",
    "        if type(i)==list:\n",
    "            l.extend(i)\n",
    "    return l"
   ]
  },
  {
   "cell_type": "code",
   "execution_count": 35,
   "id": "344cc479",
   "metadata": {},
   "outputs": [
    {
     "data": {
      "text/plain": [
       "[1, 2, 3, 4, 5, 6, 7, 8]"
      ]
     },
     "execution_count": 35,
     "metadata": {},
     "output_type": "execute_result"
    }
   ],
   "source": [
    "con([1,2,3,4],[5,6,7,8])"
   ]
  },
  {
   "cell_type": "code",
   "execution_count": 45,
   "id": "f1ce2579",
   "metadata": {},
   "outputs": [],
   "source": [
    "def ind(a):\n",
    "    \"\"\"it will return the index of the list \"\"\"\n",
    "    if type(a)==list:\n",
    "        for i in range(len(a)):\n",
    "            print (a[i],\"is at the index value of\",i)"
   ]
  },
  {
   "cell_type": "code",
   "execution_count": 46,
   "id": "b8d8d446",
   "metadata": {},
   "outputs": [
    {
     "name": "stdout",
     "output_type": "stream",
     "text": [
      "1 is at the index value of 0\n",
      "2 is at the index value of 1\n",
      "3 is at the index value of 2\n",
      "4 is at the index value of 3\n",
      "5 is at the index value of 4\n"
     ]
    }
   ],
   "source": [
    "ind([1,2,3,4,5])"
   ]
  },
  {
   "cell_type": "code",
   "execution_count": 43,
   "id": "15a35196",
   "metadata": {},
   "outputs": [
    {
     "name": "stdout",
     "output_type": "stream",
     "text": [
      "\u001b[34mDesktop\u001b[m\u001b[m/\r\n",
      "\u001b[34mDocuments\u001b[m\u001b[m/\r\n",
      "\u001b[34mDownloads\u001b[m\u001b[m/\r\n",
      "\u001b[34mLibrary\u001b[m\u001b[m/\r\n",
      "\u001b[34mMovies\u001b[m\u001b[m/\r\n",
      "\u001b[34mMusic\u001b[m\u001b[m/\r\n",
      "\u001b[34mPictures\u001b[m\u001b[m/\r\n",
      "\u001b[34mPublic\u001b[m\u001b[m/\r\n",
      "\u001b[34mPycharmProjects\u001b[m\u001b[m/\r\n",
      "Untitled.ipynb\r\n",
      "Untitled1.ipynb\r\n",
      "Untitled10.ipynb\r\n",
      "Untitled11.ipynb\r\n",
      "Untitled12.ipynb\r\n",
      "Untitled14.ipynb\r\n",
      "Untitled2.ipynb\r\n",
      "Untitled3.ipynb\r\n",
      "Untitled4.ipynb\r\n",
      "Untitled5.ipynb\r\n",
      "Untitled6.ipynb\r\n",
      "Untitled7.ipynb\r\n",
      "Untitled8.ipynb\r\n",
      "Untitled9.ipynb\r\n",
      "assignment\r\n",
      "basic dictionary operation and defining function.ipynb\r\n",
      "file operation.ipynb\r\n",
      "for loop and basic while loop and range .ipynb\r\n",
      "for loop appending.ipynb\r\n",
      "function writing,multiple arguments,lambda function,comprehension,iterator.ipynb\r\n",
      "function writing.ipynb\r\n",
      "generator & file basics.ipynb\r\n",
      "get-pip.py\r\n",
      "homework.ipynb\r\n",
      "if else , for loop.ipynb\r\n",
      "range operatiion.ipynb\r\n",
      "test.txt\r\n",
      "test2\r\n",
      "test2.txt\r\n",
      "tuples, set.ipynb\r\n",
      "untitled.txt\r\n",
      "untitled1.txt\r\n"
     ]
    }
   ],
   "source": [
    "%ls"
   ]
  },
  {
   "cell_type": "code",
   "execution_count": 53,
   "id": "ef3d4ce9",
   "metadata": {},
   "outputs": [],
   "source": [
    "def file(path):\n",
    "    \"\"\"this function takes the directory path and string as input and returns all the files name from given dirctory\"\"\"\n",
    "    import os\n",
    "    return os.listdir(path)"
   ]
  },
  {
   "cell_type": "code",
   "execution_count": 71,
   "id": "0cec111a",
   "metadata": {},
   "outputs": [
    {
     "data": {
      "text/plain": [
       "['Untitled10.ipynb',\n",
       " 'Untitled7.ipynb',\n",
       " 'Music',\n",
       " 'Untitled12.ipynb',\n",
       " 'function writing.ipynb',\n",
       " 'Untitled5.ipynb',\n",
       " 'Untitled1.ipynb',\n",
       " '.DS_Store',\n",
       " 'function writing,multiple arguments,lambda function,comprehension,iterator.ipynb',\n",
       " 'get-pip.py',\n",
       " 'file operation.ipynb',\n",
       " '.CFUserTextEncoding',\n",
       " 'for loop appending.ipynb',\n",
       " 'test2.txt',\n",
       " 'Untitled3.ipynb',\n",
       " 'Untitled14.ipynb',\n",
       " 'Untitled.ipynb',\n",
       " 'Untitled4.ipynb',\n",
       " 'Untitled6.ipynb',\n",
       " 'Pictures',\n",
       " 'Untitled11.ipynb',\n",
       " '.zprofile',\n",
       " 'for loop and basic while loop and range .ipynb',\n",
       " '.zsh_history',\n",
       " 'Untitled2.ipynb',\n",
       " 'assignment',\n",
       " '.ipython',\n",
       " 'Desktop',\n",
       " 'Library',\n",
       " 'untitled.txt',\n",
       " 'PycharmProjects',\n",
       " 'Public',\n",
       " '.idlerc',\n",
       " 'untitled1.txt',\n",
       " 'if else , for loop.ipynb',\n",
       " 'generator & file basics.ipynb',\n",
       " 'tuples, set.ipynb',\n",
       " 'Untitled8.ipynb',\n",
       " 'Movies',\n",
       " '.Trash',\n",
       " 'test.txt',\n",
       " '.ipynb_checkpoints',\n",
       " '.jupyter',\n",
       " 'Documents',\n",
       " 'test2',\n",
       " 'basic dictionary operation and defining function.ipynb',\n",
       " 'homework.ipynb',\n",
       " 'Downloads',\n",
       " 'range operatiion.ipynb',\n",
       " 'Untitled9.ipynb',\n",
       " '.zsh_sessions']"
      ]
     },
     "execution_count": 71,
     "metadata": {},
     "output_type": "execute_result"
    }
   ],
   "source": [
    "file (\"/Users/dheerajkumar\")"
   ]
  },
  {
   "cell_type": "code",
   "execution_count": 72,
   "id": "57c0691f",
   "metadata": {},
   "outputs": [],
   "source": [
    "def sys():\n",
    "    \"\"\"this function will show system configuration\"\"\"\n",
    "    import platform as pl\n",
    "    return pl.uname()"
   ]
  },
  {
   "cell_type": "code",
   "execution_count": 73,
   "id": "76da69c9",
   "metadata": {},
   "outputs": [
    {
     "data": {
      "text/plain": [
       "uname_result(system='Darwin', node='Dheerajs-MacBook-Air.local', release='21.5.0', version='Darwin Kernel Version 21.5.0: Tue Apr 26 21:08:29 PDT 2022; root:xnu-8020.121.3~4/RELEASE_ARM64_T8101', machine='arm64')"
      ]
     },
     "execution_count": 73,
     "metadata": {},
     "output_type": "execute_result"
    }
   ],
   "source": [
    "sys()"
   ]
  },
  {
   "cell_type": "code",
   "execution_count": 78,
   "id": "7e1193cb",
   "metadata": {},
   "outputs": [],
   "source": [
    "def datym():\n",
    "    \"\"\"this function is used to show the date and time in the pc\"\"\"\n",
    "    import subprocess as s\n",
    "    from subprocess import time\n",
    "    a=time.localtime()\n",
    "    print(a)\n",
    "    Date=str(a[0])+'-'+str(a[1])+'-'+str(a[2])\n",
    "    Time=str(a[3])+'-'+str(a[4])+'-'+str(a[5])\n",
    "    return \"the date is\", (Date), \"and the time is\", (Time)"
   ]
  },
  {
   "cell_type": "code",
   "execution_count": 79,
   "id": "cd367d4f",
   "metadata": {},
   "outputs": [
    {
     "name": "stdout",
     "output_type": "stream",
     "text": [
      "time.struct_time(tm_year=2022, tm_mon=6, tm_mday=25, tm_hour=23, tm_min=34, tm_sec=1, tm_wday=5, tm_yday=176, tm_isdst=0)\n"
     ]
    },
    {
     "data": {
      "text/plain": [
       "('the date is', '2022-6-25', 'and the time is', '23-34-1')"
      ]
     },
     "execution_count": 79,
     "metadata": {},
     "output_type": "execute_result"
    }
   ],
   "source": [
    "datym()"
   ]
  },
  {
   "cell_type": "code",
   "execution_count": 1,
   "id": "ebe17d00",
   "metadata": {},
   "outputs": [],
   "source": [
    "def ima(filename):\n",
    "    \"\"\"this function will read the image file\"\"\"\n",
    "    import PIL\n",
    "    from PIL import Image\n",
    "    img=Image.open(filename,\"r\")\n",
    "    return display(img)"
   ]
  },
  {
   "cell_type": "code",
   "execution_count": 22,
   "id": "4a80d899",
   "metadata": {},
   "outputs": [
    {
     "name": "stdout",
     "output_type": "stream",
     "text": [
      "Please enter the name of the filedheeraj.png\n"
     ]
    },
    {
     "ename": "ModuleNotFoundError",
     "evalue": "No module named 'PIL'",
     "output_type": "error",
     "traceback": [
      "\u001b[0;31m---------------------------------------------------------------------------\u001b[0m",
      "\u001b[0;31mModuleNotFoundError\u001b[0m                       Traceback (most recent call last)",
      "Input \u001b[0;32mIn [22]\u001b[0m, in \u001b[0;36m<cell line: 2>\u001b[0;34m()\u001b[0m\n\u001b[1;32m      1\u001b[0m filename\u001b[38;5;241m=\u001b[39m\u001b[38;5;28minput\u001b[39m(\u001b[38;5;124m\"\u001b[39m\u001b[38;5;124mPlease enter the name of the file\u001b[39m\u001b[38;5;124m\"\u001b[39m)\n\u001b[0;32m----> 2\u001b[0m \u001b[43mima\u001b[49m\u001b[43m(\u001b[49m\u001b[43mfilename\u001b[49m\u001b[43m)\u001b[49m\n",
      "Input \u001b[0;32mIn [1]\u001b[0m, in \u001b[0;36mima\u001b[0;34m(filename)\u001b[0m\n\u001b[1;32m      1\u001b[0m \u001b[38;5;28;01mdef\u001b[39;00m \u001b[38;5;21mima\u001b[39m(filename):\n\u001b[1;32m      2\u001b[0m     \u001b[38;5;124;03m\"\"\"this function will read the image file\"\"\"\u001b[39;00m\n\u001b[0;32m----> 3\u001b[0m     \u001b[38;5;28;01mimport\u001b[39;00m \u001b[38;5;21;01mPIL\u001b[39;00m\n\u001b[1;32m      4\u001b[0m     \u001b[38;5;28;01mfrom\u001b[39;00m \u001b[38;5;21;01mPIL\u001b[39;00m \u001b[38;5;28;01mimport\u001b[39;00m Image\n\u001b[1;32m      5\u001b[0m     img\u001b[38;5;241m=\u001b[39mImage\u001b[38;5;241m.\u001b[39mopen(filename,\u001b[38;5;124m\"\u001b[39m\u001b[38;5;124mr\u001b[39m\u001b[38;5;124m\"\u001b[39m)\n",
      "\u001b[0;31mModuleNotFoundError\u001b[0m: No module named 'PIL'"
     ]
    }
   ],
   "source": [
    "filename=input(\"Please enter the name of the file\")\n",
    "ima(filename)"
   ]
  },
  {
   "cell_type": "code",
   "execution_count": 19,
   "id": "08e53843",
   "metadata": {},
   "outputs": [],
   "source": [
    "def imag(filename):\n",
    "    \"\"\"this function will read the image file\"\"\"\n",
    "    import imageio as iio\n",
    "    img=iio.imread(filename)\n",
    "    iio.imwrite(filename,img)"
   ]
  },
  {
   "cell_type": "code",
   "execution_count": 20,
   "id": "1fd38159",
   "metadata": {},
   "outputs": [
    {
     "ename": "ModuleNotFoundError",
     "evalue": "No module named 'imageio'",
     "output_type": "error",
     "traceback": [
      "\u001b[0;31m---------------------------------------------------------------------------\u001b[0m",
      "\u001b[0;31mModuleNotFoundError\u001b[0m                       Traceback (most recent call last)",
      "Input \u001b[0;32mIn [20]\u001b[0m, in \u001b[0;36m<cell line: 1>\u001b[0;34m()\u001b[0m\n\u001b[0;32m----> 1\u001b[0m \u001b[43mimag\u001b[49m\u001b[43m(\u001b[49m\u001b[38;5;124;43m\"\u001b[39;49m\u001b[38;5;124;43mdheeraj.jpg\u001b[39;49m\u001b[38;5;124;43m\"\u001b[39;49m\u001b[43m)\u001b[49m\n",
      "Input \u001b[0;32mIn [19]\u001b[0m, in \u001b[0;36mimag\u001b[0;34m(filename)\u001b[0m\n\u001b[1;32m      1\u001b[0m \u001b[38;5;28;01mdef\u001b[39;00m \u001b[38;5;21mimag\u001b[39m(filename):\n\u001b[1;32m      2\u001b[0m     \u001b[38;5;124;03m\"\"\"this function will read the image file\"\"\"\u001b[39;00m\n\u001b[0;32m----> 3\u001b[0m     \u001b[38;5;28;01mimport\u001b[39;00m \u001b[38;5;21;01mimageio\u001b[39;00m \u001b[38;5;28;01mas\u001b[39;00m \u001b[38;5;21;01miio\u001b[39;00m\n\u001b[1;32m      4\u001b[0m     img\u001b[38;5;241m=\u001b[39miio\u001b[38;5;241m.\u001b[39mimread(filename)\n\u001b[1;32m      5\u001b[0m     iio\u001b[38;5;241m.\u001b[39mimwrite(filename,img)\n",
      "\u001b[0;31mModuleNotFoundError\u001b[0m: No module named 'imageio'"
     ]
    }
   ],
   "source": [
    "imag(\"dheeraj.jpg\")"
   ]
  },
  {
   "cell_type": "code",
   "execution_count": 28,
   "id": "99e7c7f1",
   "metadata": {},
   "outputs": [],
   "source": [
    "def mov(dir1,dir2):\n",
    "    \"\"\"this function will move the file from one directory to another directory\"\"\"\n",
    "    import shutil\n",
    "    shutil.move(dir1,dir2)\n",
    "    "
   ]
  },
  {
   "cell_type": "code",
   "execution_count": 31,
   "id": "57e74d12",
   "metadata": {},
   "outputs": [
    {
     "name": "stdout",
     "output_type": "stream",
     "text": [
      "please enter the source directory path/Users/dheerajkumar\n",
      "please enter the destination directory path/dheerajkumar\n"
     ]
    },
    {
     "ename": "OSError",
     "evalue": "[Errno 30] Read-only file system: '/dheerajkumar'",
     "output_type": "error",
     "traceback": [
      "\u001b[0;31m---------------------------------------------------------------------------\u001b[0m",
      "\u001b[0;31mOSError\u001b[0m                                   Traceback (most recent call last)",
      "File \u001b[0;32m/Library/Frameworks/Python.framework/Versions/3.10/lib/python3.10/shutil.py:813\u001b[0m, in \u001b[0;36mmove\u001b[0;34m(src, dst, copy_function)\u001b[0m\n\u001b[1;32m    812\u001b[0m \u001b[38;5;28;01mtry\u001b[39;00m:\n\u001b[0;32m--> 813\u001b[0m     \u001b[43mos\u001b[49m\u001b[38;5;241;43m.\u001b[39;49m\u001b[43mrename\u001b[49m\u001b[43m(\u001b[49m\u001b[43msrc\u001b[49m\u001b[43m,\u001b[49m\u001b[43m \u001b[49m\u001b[43mreal_dst\u001b[49m\u001b[43m)\u001b[49m\n\u001b[1;32m    814\u001b[0m \u001b[38;5;28;01mexcept\u001b[39;00m \u001b[38;5;167;01mOSError\u001b[39;00m:\n",
      "\u001b[0;31mOSError\u001b[0m: [Errno 18] Cross-device link: '/Users/dheerajkumar' -> '/dheerajkumar'",
      "\nDuring handling of the above exception, another exception occurred:\n",
      "\u001b[0;31mOSError\u001b[0m                                   Traceback (most recent call last)",
      "Input \u001b[0;32mIn [31]\u001b[0m, in \u001b[0;36m<cell line: 3>\u001b[0;34m()\u001b[0m\n\u001b[1;32m      1\u001b[0m dir1\u001b[38;5;241m=\u001b[39m\u001b[38;5;28minput\u001b[39m(\u001b[38;5;124m\"\u001b[39m\u001b[38;5;124mplease enter the source directory path\u001b[39m\u001b[38;5;124m\"\u001b[39m)\n\u001b[1;32m      2\u001b[0m dir2\u001b[38;5;241m=\u001b[39m\u001b[38;5;28minput\u001b[39m(\u001b[38;5;124m\"\u001b[39m\u001b[38;5;124mplease enter the destination directory path\u001b[39m\u001b[38;5;124m\"\u001b[39m)\n\u001b[0;32m----> 3\u001b[0m \u001b[43mmov\u001b[49m\u001b[43m(\u001b[49m\u001b[43mdir1\u001b[49m\u001b[43m,\u001b[49m\u001b[43mdir2\u001b[49m\u001b[43m)\u001b[49m\n",
      "Input \u001b[0;32mIn [28]\u001b[0m, in \u001b[0;36mmov\u001b[0;34m(dir1, dir2)\u001b[0m\n\u001b[1;32m      2\u001b[0m \u001b[38;5;124;03m\"\"\"this function will move the file from one directory to another directory\"\"\"\u001b[39;00m\n\u001b[1;32m      3\u001b[0m \u001b[38;5;28;01mimport\u001b[39;00m \u001b[38;5;21;01mshutil\u001b[39;00m\n\u001b[0;32m----> 4\u001b[0m \u001b[43mshutil\u001b[49m\u001b[38;5;241;43m.\u001b[39;49m\u001b[43mmove\u001b[49m\u001b[43m(\u001b[49m\u001b[43mdir1\u001b[49m\u001b[43m,\u001b[49m\u001b[43mdir2\u001b[49m\u001b[43m)\u001b[49m\n",
      "File \u001b[0;32m/Library/Frameworks/Python.framework/Versions/3.10/lib/python3.10/shutil.py:829\u001b[0m, in \u001b[0;36mmove\u001b[0;34m(src, dst, copy_function)\u001b[0m\n\u001b[1;32m    823\u001b[0m     \u001b[38;5;28;01mif\u001b[39;00m (_is_immutable(src)\n\u001b[1;32m    824\u001b[0m             \u001b[38;5;129;01mor\u001b[39;00m (\u001b[38;5;129;01mnot\u001b[39;00m os\u001b[38;5;241m.\u001b[39maccess(src, os\u001b[38;5;241m.\u001b[39mW_OK) \u001b[38;5;129;01mand\u001b[39;00m os\u001b[38;5;241m.\u001b[39mlistdir(src)\n\u001b[1;32m    825\u001b[0m                 \u001b[38;5;129;01mand\u001b[39;00m sys\u001b[38;5;241m.\u001b[39mplatform \u001b[38;5;241m==\u001b[39m \u001b[38;5;124m'\u001b[39m\u001b[38;5;124mdarwin\u001b[39m\u001b[38;5;124m'\u001b[39m)):\n\u001b[1;32m    826\u001b[0m         \u001b[38;5;28;01mraise\u001b[39;00m \u001b[38;5;167;01mPermissionError\u001b[39;00m(\u001b[38;5;124m\"\u001b[39m\u001b[38;5;124mCannot move the non-empty directory \u001b[39m\u001b[38;5;124m\"\u001b[39m\n\u001b[1;32m    827\u001b[0m                               \u001b[38;5;124m\"\u001b[39m\u001b[38;5;124m'\u001b[39m\u001b[38;5;132;01m%s\u001b[39;00m\u001b[38;5;124m'\u001b[39m\u001b[38;5;124m: Lacking write permission to \u001b[39m\u001b[38;5;124m'\u001b[39m\u001b[38;5;132;01m%s\u001b[39;00m\u001b[38;5;124m'\u001b[39m\u001b[38;5;124m.\u001b[39m\u001b[38;5;124m\"\u001b[39m\n\u001b[1;32m    828\u001b[0m                               \u001b[38;5;241m%\u001b[39m (src, src))\n\u001b[0;32m--> 829\u001b[0m     \u001b[43mcopytree\u001b[49m\u001b[43m(\u001b[49m\u001b[43msrc\u001b[49m\u001b[43m,\u001b[49m\u001b[43m \u001b[49m\u001b[43mreal_dst\u001b[49m\u001b[43m,\u001b[49m\u001b[43m \u001b[49m\u001b[43mcopy_function\u001b[49m\u001b[38;5;241;43m=\u001b[39;49m\u001b[43mcopy_function\u001b[49m\u001b[43m,\u001b[49m\n\u001b[1;32m    830\u001b[0m \u001b[43m             \u001b[49m\u001b[43msymlinks\u001b[49m\u001b[38;5;241;43m=\u001b[39;49m\u001b[38;5;28;43;01mTrue\u001b[39;49;00m\u001b[43m)\u001b[49m\n\u001b[1;32m    831\u001b[0m     rmtree(src)\n\u001b[1;32m    832\u001b[0m \u001b[38;5;28;01melse\u001b[39;00m:\n",
      "File \u001b[0;32m/Library/Frameworks/Python.framework/Versions/3.10/lib/python3.10/shutil.py:556\u001b[0m, in \u001b[0;36mcopytree\u001b[0;34m(src, dst, symlinks, ignore, copy_function, ignore_dangling_symlinks, dirs_exist_ok)\u001b[0m\n\u001b[1;32m    554\u001b[0m \u001b[38;5;28;01mwith\u001b[39;00m os\u001b[38;5;241m.\u001b[39mscandir(src) \u001b[38;5;28;01mas\u001b[39;00m itr:\n\u001b[1;32m    555\u001b[0m     entries \u001b[38;5;241m=\u001b[39m \u001b[38;5;28mlist\u001b[39m(itr)\n\u001b[0;32m--> 556\u001b[0m \u001b[38;5;28;01mreturn\u001b[39;00m \u001b[43m_copytree\u001b[49m\u001b[43m(\u001b[49m\u001b[43mentries\u001b[49m\u001b[38;5;241;43m=\u001b[39;49m\u001b[43mentries\u001b[49m\u001b[43m,\u001b[49m\u001b[43m \u001b[49m\u001b[43msrc\u001b[49m\u001b[38;5;241;43m=\u001b[39;49m\u001b[43msrc\u001b[49m\u001b[43m,\u001b[49m\u001b[43m \u001b[49m\u001b[43mdst\u001b[49m\u001b[38;5;241;43m=\u001b[39;49m\u001b[43mdst\u001b[49m\u001b[43m,\u001b[49m\u001b[43m \u001b[49m\u001b[43msymlinks\u001b[49m\u001b[38;5;241;43m=\u001b[39;49m\u001b[43msymlinks\u001b[49m\u001b[43m,\u001b[49m\n\u001b[1;32m    557\u001b[0m \u001b[43m                 \u001b[49m\u001b[43mignore\u001b[49m\u001b[38;5;241;43m=\u001b[39;49m\u001b[43mignore\u001b[49m\u001b[43m,\u001b[49m\u001b[43m \u001b[49m\u001b[43mcopy_function\u001b[49m\u001b[38;5;241;43m=\u001b[39;49m\u001b[43mcopy_function\u001b[49m\u001b[43m,\u001b[49m\n\u001b[1;32m    558\u001b[0m \u001b[43m                 \u001b[49m\u001b[43mignore_dangling_symlinks\u001b[49m\u001b[38;5;241;43m=\u001b[39;49m\u001b[43mignore_dangling_symlinks\u001b[49m\u001b[43m,\u001b[49m\n\u001b[1;32m    559\u001b[0m \u001b[43m                 \u001b[49m\u001b[43mdirs_exist_ok\u001b[49m\u001b[38;5;241;43m=\u001b[39;49m\u001b[43mdirs_exist_ok\u001b[49m\u001b[43m)\u001b[49m\n",
      "File \u001b[0;32m/Library/Frameworks/Python.framework/Versions/3.10/lib/python3.10/shutil.py:457\u001b[0m, in \u001b[0;36m_copytree\u001b[0;34m(entries, src, dst, symlinks, ignore, copy_function, ignore_dangling_symlinks, dirs_exist_ok)\u001b[0m\n\u001b[1;32m    454\u001b[0m \u001b[38;5;28;01melse\u001b[39;00m:\n\u001b[1;32m    455\u001b[0m     ignored_names \u001b[38;5;241m=\u001b[39m \u001b[38;5;28mset\u001b[39m()\n\u001b[0;32m--> 457\u001b[0m \u001b[43mos\u001b[49m\u001b[38;5;241;43m.\u001b[39;49m\u001b[43mmakedirs\u001b[49m\u001b[43m(\u001b[49m\u001b[43mdst\u001b[49m\u001b[43m,\u001b[49m\u001b[43m \u001b[49m\u001b[43mexist_ok\u001b[49m\u001b[38;5;241;43m=\u001b[39;49m\u001b[43mdirs_exist_ok\u001b[49m\u001b[43m)\u001b[49m\n\u001b[1;32m    458\u001b[0m errors \u001b[38;5;241m=\u001b[39m []\n\u001b[1;32m    459\u001b[0m use_srcentry \u001b[38;5;241m=\u001b[39m copy_function \u001b[38;5;129;01mis\u001b[39;00m copy2 \u001b[38;5;129;01mor\u001b[39;00m copy_function \u001b[38;5;129;01mis\u001b[39;00m copy\n",
      "File \u001b[0;32m/Library/Frameworks/Python.framework/Versions/3.10/lib/python3.10/os.py:225\u001b[0m, in \u001b[0;36mmakedirs\u001b[0;34m(name, mode, exist_ok)\u001b[0m\n\u001b[1;32m    223\u001b[0m         \u001b[38;5;28;01mreturn\u001b[39;00m\n\u001b[1;32m    224\u001b[0m \u001b[38;5;28;01mtry\u001b[39;00m:\n\u001b[0;32m--> 225\u001b[0m     \u001b[43mmkdir\u001b[49m\u001b[43m(\u001b[49m\u001b[43mname\u001b[49m\u001b[43m,\u001b[49m\u001b[43m \u001b[49m\u001b[43mmode\u001b[49m\u001b[43m)\u001b[49m\n\u001b[1;32m    226\u001b[0m \u001b[38;5;28;01mexcept\u001b[39;00m \u001b[38;5;167;01mOSError\u001b[39;00m:\n\u001b[1;32m    227\u001b[0m     \u001b[38;5;66;03m# Cannot rely on checking for EEXIST, since the operating system\u001b[39;00m\n\u001b[1;32m    228\u001b[0m     \u001b[38;5;66;03m# could give priority to other errors like EACCES or EROFS\u001b[39;00m\n\u001b[1;32m    229\u001b[0m     \u001b[38;5;28;01mif\u001b[39;00m \u001b[38;5;129;01mnot\u001b[39;00m exist_ok \u001b[38;5;129;01mor\u001b[39;00m \u001b[38;5;129;01mnot\u001b[39;00m path\u001b[38;5;241m.\u001b[39misdir(name):\n",
      "\u001b[0;31mOSError\u001b[0m: [Errno 30] Read-only file system: '/dheerajkumar'"
     ]
    }
   ],
   "source": [
    "dir1=input(\"please enter the source directory path\")\n",
    "dir2=input(\"please enter the destination directory path\")\n",
    "mov(dir1,dir2)"
   ]
  },
  {
   "cell_type": "code",
   "execution_count": 15,
   "id": "f82ca0d0",
   "metadata": {},
   "outputs": [],
   "source": [
    "def func2():\n",
    "    \"\"\"This function will. print the IP address of the system\"\"\"\n",
    "    import socket\n",
    "    name=socket.gethostname()\n",
    "    IP_address=socket.gethostbyname(socket.gethostname())\n",
    "    print(\"System name is\",name,\"and IP address is \",IP_address)"
   ]
  },
  {
   "cell_type": "code",
   "execution_count": 16,
   "id": "f8c1e238",
   "metadata": {},
   "outputs": [
    {
     "ename": "gaierror",
     "evalue": "[Errno 8] nodename nor servname provided, or not known",
     "output_type": "error",
     "traceback": [
      "\u001b[0;31m---------------------------------------------------------------------------\u001b[0m",
      "\u001b[0;31mgaierror\u001b[0m                                  Traceback (most recent call last)",
      "Input \u001b[0;32mIn [16]\u001b[0m, in \u001b[0;36m<cell line: 1>\u001b[0;34m()\u001b[0m\n\u001b[0;32m----> 1\u001b[0m \u001b[43mfunc2\u001b[49m\u001b[43m(\u001b[49m\u001b[43m)\u001b[49m\n",
      "Input \u001b[0;32mIn [15]\u001b[0m, in \u001b[0;36mfunc2\u001b[0;34m()\u001b[0m\n\u001b[1;32m      3\u001b[0m \u001b[38;5;28;01mimport\u001b[39;00m \u001b[38;5;21;01msocket\u001b[39;00m\n\u001b[1;32m      4\u001b[0m name\u001b[38;5;241m=\u001b[39msocket\u001b[38;5;241m.\u001b[39mgethostname()\n\u001b[0;32m----> 5\u001b[0m IP_address\u001b[38;5;241m=\u001b[39m\u001b[43msocket\u001b[49m\u001b[38;5;241;43m.\u001b[39;49m\u001b[43mgethostbyname\u001b[49m\u001b[43m(\u001b[49m\u001b[43msocket\u001b[49m\u001b[38;5;241;43m.\u001b[39;49m\u001b[43mgethostname\u001b[49m\u001b[43m(\u001b[49m\u001b[43m)\u001b[49m\u001b[43m)\u001b[49m\n\u001b[1;32m      6\u001b[0m \u001b[38;5;28mprint\u001b[39m(\u001b[38;5;124m\"\u001b[39m\u001b[38;5;124mSystem name is\u001b[39m\u001b[38;5;124m\"\u001b[39m,name,\u001b[38;5;124m\"\u001b[39m\u001b[38;5;124mand IP address is \u001b[39m\u001b[38;5;124m\"\u001b[39m,IP_address)\n",
      "\u001b[0;31mgaierror\u001b[0m: [Errno 8] nodename nor servname provided, or not known"
     ]
    }
   ],
   "source": [
    "func2()"
   ]
  },
  {
   "cell_type": "code",
   "execution_count": 17,
   "id": "a98afee3",
   "metadata": {},
   "outputs": [
    {
     "name": "stdout",
     "output_type": "stream",
     "text": [
      "Collecting opencv-python\n",
      "  Downloading opencv_python-4.6.0.66-cp37-abi3-macosx_11_0_arm64.whl (30.0 MB)\n",
      "\u001b[2K     \u001b[90m━━━━━━━━━━━━━━━━━━━━━━━━━━━━━━━━━━━━━━━━\u001b[0m \u001b[32m30.0/30.0 MB\u001b[0m \u001b[31m21.1 kB/s\u001b[0m eta \u001b[36m0:00:00\u001b[0m00:01\u001b[0m00:02\u001b[0m\n",
      "\u001b[?25hCollecting numpy>=1.21.2\n",
      "  Downloading numpy-1.23.0-cp310-cp310-macosx_11_0_arm64.whl (13.3 MB)\n",
      "\u001b[2K     \u001b[91m━━━━\u001b[0m\u001b[90m╺\u001b[0m\u001b[90m━━━━━━━━━━━━━━━━━━━━━━━━━━━━━━━━━━━\u001b[0m \u001b[32m1.5/13.3 MB\u001b[0m \u001b[31m69.8 kB/s\u001b[0m eta \u001b[36m0:02:50\u001b[0m\n",
      "\u001b[?25h\u001b[31mERROR: THESE PACKAGES DO NOT MATCH THE HASHES FROM THE REQUIREMENTS FILE. If you have updated the package versions, please update the hashes. Otherwise, examine the package contents carefully; someone may have tampered with them.\n",
      "    numpy>=1.21.2 from https://files.pythonhosted.org/packages/e6/aa/323e1cf4f25025c6f67dcf179db754142f92847c9d592599dc01b78de460/numpy-1.23.0-cp310-cp310-macosx_11_0_arm64.whl#sha256=196cd074c3f97c4121601790955f915187736f9cf458d3ee1f1b46aff2b1ade0 (from opencv-python):\n",
      "        Expected sha256 196cd074c3f97c4121601790955f915187736f9cf458d3ee1f1b46aff2b1ade0\n",
      "             Got        e16610350a9f95748a291086cf5f6f3b4afca4c8cb89ebedec8f1164382ce72d\n",
      "\u001b[0m\u001b[31m\n",
      "\u001b[0m\u001b[33mWARNING: You are using pip version 22.0.4; however, version 22.1.2 is available.\n",
      "You should consider upgrading via the '/Library/Frameworks/Python.framework/Versions/3.10/bin/python3 -m pip install --upgrade pip' command.\u001b[0m\u001b[33m\n",
      "\u001b[0m"
     ]
    }
   ],
   "source": [
    "!pip install opencv-python"
   ]
  },
  {
   "cell_type": "code",
   "execution_count": 19,
   "id": "a311681d",
   "metadata": {},
   "outputs": [
    {
     "ename": "ModuleNotFoundError",
     "evalue": "No module named 'cv'",
     "output_type": "error",
     "traceback": [
      "\u001b[0;31m---------------------------------------------------------------------------\u001b[0m",
      "\u001b[0;31mModuleNotFoundError\u001b[0m                       Traceback (most recent call last)",
      "Input \u001b[0;32mIn [19]\u001b[0m, in \u001b[0;36m<cell line: 1>\u001b[0;34m()\u001b[0m\n\u001b[0;32m----> 1\u001b[0m \u001b[38;5;28;01mimport\u001b[39;00m \u001b[38;5;21;01mcv\u001b[39;00m\n\u001b[1;32m      2\u001b[0m \u001b[38;5;28;01mdef\u001b[39;00m \u001b[38;5;21mima\u001b[39m(im):\n\u001b[1;32m      3\u001b[0m     \u001b[38;5;124;03m\"\"\"This function will read a image\"\"\"\u001b[39;00m\n",
      "\u001b[0;31mModuleNotFoundError\u001b[0m: No module named 'cv'"
     ]
    }
   ],
   "source": [
    "import cv\n",
    "def ima(im):\n",
    "    \"\"\"This function will read a image\"\"\"\n",
    "    img=cv.imread(im)\n",
    "    cv.imshow(\"image:\",im)\n",
    "    cv.waitkey(0)\n",
    "    cv.destroyAllWindows()"
   ]
  },
  {
   "cell_type": "code",
   "execution_count": null,
   "id": "b0d99d60",
   "metadata": {},
   "outputs": [],
   "source": []
  }
 ],
 "metadata": {
  "kernelspec": {
   "display_name": "Python 3 (ipykernel)",
   "language": "python",
   "name": "python3"
  },
  "language_info": {
   "codemirror_mode": {
    "name": "ipython",
    "version": 3
   },
   "file_extension": ".py",
   "mimetype": "text/x-python",
   "name": "python",
   "nbconvert_exporter": "python",
   "pygments_lexer": "ipython3",
   "version": "3.10.4"
  }
 },
 "nbformat": 4,
 "nbformat_minor": 5
}

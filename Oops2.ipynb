{
 "cells": [
  {
   "cell_type": "code",
   "execution_count": 4,
   "id": "7d00df44",
   "metadata": {},
   "outputs": [],
   "source": [
    "#this class is explaining the concept of inheritance\n",
    "class xyz:\n",
    "    def __init__(self,a,b,c):\n",
    "        self.a=a\n",
    "        self.b=b\n",
    "        self.c=c\n",
    "    def test(self):\n",
    "        print(\"this is my first method of xyz\")\n",
    "    def test1(self):\n",
    "        print(\"this is my test1 method of xyz\")\n",
    "    def test2(self):\n",
    "        print(\"this is my test2 method of xyz\")\n",
    "class xyz1(xyz):\n",
    "    pass\n"
   ]
  },
  {
   "cell_type": "code",
   "execution_count": 5,
   "id": "61352aad",
   "metadata": {},
   "outputs": [
    {
     "data": {
      "text/plain": [
       "[__main__.xyz1, __main__.xyz, object]"
      ]
     },
     "execution_count": 5,
     "metadata": {},
     "output_type": "execute_result"
    }
   ],
   "source": [
    "xyz1.mro()"
   ]
  },
  {
   "cell_type": "code",
   "execution_count": 9,
   "id": "38ccf133",
   "metadata": {},
   "outputs": [],
   "source": [
    "a=xyz1(1,2,3)"
   ]
  },
  {
   "cell_type": "code",
   "execution_count": 11,
   "id": "58afeb10",
   "metadata": {},
   "outputs": [
    {
     "data": {
      "text/plain": [
       "1"
      ]
     },
     "execution_count": 11,
     "metadata": {},
     "output_type": "execute_result"
    }
   ],
   "source": [
    "a.a"
   ]
  },
  {
   "cell_type": "code",
   "execution_count": 12,
   "id": "d9d41c39",
   "metadata": {},
   "outputs": [
    {
     "name": "stdout",
     "output_type": "stream",
     "text": [
      "this is my test1 method of xyz\n"
     ]
    }
   ],
   "source": [
    "a.test1()"
   ]
  },
  {
   "cell_type": "code",
   "execution_count": 13,
   "id": "767ea370",
   "metadata": {},
   "outputs": [],
   "source": [
    "#multiclass inheritance\n",
    "class abc:\n",
    "    def __init__(self,c,d,e):\n",
    "        self.c=c\n",
    "        self.d=d\n",
    "        self.e=e\n",
    "    def test(self):\n",
    "        print(\"this is test from abc\")\n",
    "    def test1(self):\n",
    "        print(\"this is test1 from abc\")\n",
    "    def test2(self):\n",
    "        print(\"this is test2 from abc\")\n",
    "class abc1:\n",
    "    def __init__(self,p,q,r):\n",
    "        self.p=p\n",
    "        self.q=q\n",
    "        self.r=r\n",
    "    def test3(self):\n",
    "        print(\"this is test3 from abc1\")\n",
    "class child(abc,abc1):\n",
    "    pass"
   ]
  },
  {
   "cell_type": "code",
   "execution_count": 15,
   "id": "348eff9d",
   "metadata": {},
   "outputs": [],
   "source": [
    "a=child(1,2,3)"
   ]
  },
  {
   "cell_type": "code",
   "execution_count": 16,
   "id": "a513d2d1",
   "metadata": {},
   "outputs": [
    {
     "data": {
      "text/plain": [
       "1"
      ]
     },
     "execution_count": 16,
     "metadata": {},
     "output_type": "execute_result"
    }
   ],
   "source": [
    "a.c"
   ]
  },
  {
   "cell_type": "code",
   "execution_count": 17,
   "id": "e05f4ce9",
   "metadata": {},
   "outputs": [
    {
     "data": {
      "text/plain": [
       "2"
      ]
     },
     "execution_count": 17,
     "metadata": {},
     "output_type": "execute_result"
    }
   ],
   "source": [
    "a.d"
   ]
  },
  {
   "cell_type": "code",
   "execution_count": 18,
   "id": "34b404d1",
   "metadata": {},
   "outputs": [
    {
     "data": {
      "text/plain": [
       "3"
      ]
     },
     "execution_count": 18,
     "metadata": {},
     "output_type": "execute_result"
    }
   ],
   "source": [
    "a.e"
   ]
  },
  {
   "cell_type": "code",
   "execution_count": 19,
   "id": "390be8de",
   "metadata": {},
   "outputs": [
    {
     "name": "stdout",
     "output_type": "stream",
     "text": [
      "this is test from abc\n"
     ]
    }
   ],
   "source": [
    "a.test()"
   ]
  },
  {
   "cell_type": "code",
   "execution_count": 20,
   "id": "9a7363ef",
   "metadata": {},
   "outputs": [
    {
     "name": "stdout",
     "output_type": "stream",
     "text": [
      "this is test1 from abc\n"
     ]
    }
   ],
   "source": [
    "a.test1()"
   ]
  },
  {
   "cell_type": "code",
   "execution_count": 21,
   "id": "e34b79bc",
   "metadata": {},
   "outputs": [
    {
     "name": "stdout",
     "output_type": "stream",
     "text": [
      "this is test2 from abc\n"
     ]
    }
   ],
   "source": [
    "a.test2()"
   ]
  },
  {
   "cell_type": "code",
   "execution_count": 22,
   "id": "851953eb",
   "metadata": {},
   "outputs": [
    {
     "name": "stdout",
     "output_type": "stream",
     "text": [
      "this is test3 from abc1\n"
     ]
    }
   ],
   "source": [
    "a.test3()"
   ]
  },
  {
   "cell_type": "code",
   "execution_count": 1,
   "id": "7c2d62fd",
   "metadata": {},
   "outputs": [],
   "source": [
    "#In this kind of inheritance the variables a,b,c will be overwrite by the variables p,q,r\n",
    "class abc:\n",
    "    def __init__(self,c,d,e):\n",
    "        self.c=c\n",
    "        self.d=d\n",
    "        self.e=e\n",
    "    def test(self):\n",
    "        print(\"this is test from abc\")\n",
    "    def test1(self):\n",
    "        print(\"this is test1 from abc\")\n",
    "    def test2(self):\n",
    "        print(\"this is test2 from abc\")\n",
    "class abc1:\n",
    "    def __init__(self,p,q,r):\n",
    "        self.p=p\n",
    "        self.q=q\n",
    "        self.r=r\n",
    "    def test3(self):\n",
    "        print(\"this is test3 from abc1\")\n",
    "class child(abc,abc1):\n",
    "    def __init__(self,*args):\n",
    "        abc.__init__(self,*args)\n",
    "        abc1.__init__(self,*args)"
   ]
  },
  {
   "cell_type": "code",
   "execution_count": 2,
   "id": "68c85795",
   "metadata": {},
   "outputs": [],
   "source": [
    "a=child(1,2,3)"
   ]
  },
  {
   "cell_type": "code",
   "execution_count": 3,
   "id": "7aae2387",
   "metadata": {},
   "outputs": [
    {
     "data": {
      "text/plain": [
       "1"
      ]
     },
     "execution_count": 3,
     "metadata": {},
     "output_type": "execute_result"
    }
   ],
   "source": [
    "a.c"
   ]
  },
  {
   "cell_type": "code",
   "execution_count": 4,
   "id": "0503739a",
   "metadata": {},
   "outputs": [
    {
     "data": {
      "text/plain": [
       "1"
      ]
     },
     "execution_count": 4,
     "metadata": {},
     "output_type": "execute_result"
    }
   ],
   "source": [
    "a.p"
   ]
  },
  {
   "cell_type": "code",
   "execution_count": 5,
   "id": "f85ec111",
   "metadata": {},
   "outputs": [],
   "source": [
    "#In this kind of inheritance the variables p,q,r will be assigned different values\n",
    "class abc:\n",
    "    def __init__(self,c,d,e):\n",
    "        self.c=c\n",
    "        self.d=d\n",
    "        self.e=e\n",
    "    def test(self):\n",
    "        print(\"this is test from abc\")\n",
    "    def test1(self):\n",
    "        print(\"this is test1 from abc\")\n",
    "    def test2(self):\n",
    "        print(\"this is test2 from abc\")\n",
    "class abc1:\n",
    "    def __init__(self,p,q,r):\n",
    "        self.p=p\n",
    "        self.q=q\n",
    "        self.r=r\n",
    "    def test3(self):\n",
    "        print(\"this is test3 from abc1\")\n",
    "class child(abc,abc1):\n",
    "    def __init__(self,*args,**kwargs):\n",
    "        abc.__init__(self,*args)\n",
    "        abc1.__init__(self,**kwargs)"
   ]
  },
  {
   "cell_type": "code",
   "execution_count": 8,
   "id": "f5231ea3",
   "metadata": {},
   "outputs": [],
   "source": [
    "a=child(1,2,3,p=4,q=5,r=6)"
   ]
  },
  {
   "cell_type": "code",
   "execution_count": 9,
   "id": "e5eb5223",
   "metadata": {},
   "outputs": [
    {
     "data": {
      "text/plain": [
       "1"
      ]
     },
     "execution_count": 9,
     "metadata": {},
     "output_type": "execute_result"
    }
   ],
   "source": [
    "a.c"
   ]
  },
  {
   "cell_type": "code",
   "execution_count": 10,
   "id": "ab7dafbe",
   "metadata": {},
   "outputs": [
    {
     "name": "stdout",
     "output_type": "stream",
     "text": [
      "this is test from abc\n"
     ]
    }
   ],
   "source": [
    "a.test()"
   ]
  },
  {
   "cell_type": "code",
   "execution_count": 52,
   "id": "22e6c8fd",
   "metadata": {},
   "outputs": [],
   "source": [
    "class file:\n",
    "    def __init__(self,filename):\n",
    "        self.filename=filename\n",
    "    def read(self):\n",
    "           with open (f\"{self.filename}.txt\",\"r\")as f:\n",
    "            data=f.read()\n",
    "            return data\n",
    "    def write(self,data):\n",
    "        with open (f\"{self.filename}.txt\",\"w\")as f:\n",
    "            data=f.write(data)"
   ]
  },
  {
   "cell_type": "code",
   "execution_count": 23,
   "id": "0139e751",
   "metadata": {},
   "outputs": [],
   "source": [
    "b=open(\"dk.txt\",'r+')"
   ]
  },
  {
   "cell_type": "code",
   "execution_count": 24,
   "id": "a0b3e747",
   "metadata": {},
   "outputs": [
    {
     "data": {
      "text/plain": [
       "34"
      ]
     },
     "execution_count": 24,
     "metadata": {},
     "output_type": "execute_result"
    }
   ],
   "source": [
    "b.write(\"this is my new file to write in it\")"
   ]
  },
  {
   "cell_type": "code",
   "execution_count": 32,
   "id": "9583f8c4",
   "metadata": {},
   "outputs": [],
   "source": [
    "b.close()"
   ]
  },
  {
   "cell_type": "code",
   "execution_count": 41,
   "id": "2374842d",
   "metadata": {},
   "outputs": [],
   "source": [
    "b=open(\"dk.txt\",'r+')"
   ]
  },
  {
   "cell_type": "code",
   "execution_count": 42,
   "id": "83d3a5e6",
   "metadata": {},
   "outputs": [
    {
     "data": {
      "text/plain": [
       "'this is my new file to write in it'"
      ]
     },
     "execution_count": 42,
     "metadata": {},
     "output_type": "execute_result"
    }
   ],
   "source": [
    "b.read()"
   ]
  },
  {
   "cell_type": "code",
   "execution_count": 43,
   "id": "9553b754",
   "metadata": {},
   "outputs": [],
   "source": [
    "b.close()"
   ]
  },
  {
   "cell_type": "code",
   "execution_count": 48,
   "id": "0ce22b0b",
   "metadata": {},
   "outputs": [],
   "source": [
    "f=file(\"dk\")"
   ]
  },
  {
   "cell_type": "code",
   "execution_count": 53,
   "id": "b8c74d98",
   "metadata": {},
   "outputs": [],
   "source": [
    "f=file(\"dk\")"
   ]
  },
  {
   "cell_type": "code",
   "execution_count": 54,
   "id": "bd6b871d",
   "metadata": {},
   "outputs": [
    {
     "data": {
      "text/plain": [
       "'this is my new file to write in it'"
      ]
     },
     "execution_count": 54,
     "metadata": {},
     "output_type": "execute_result"
    }
   ],
   "source": [
    "f.read()"
   ]
  },
  {
   "cell_type": "code",
   "execution_count": 3,
   "id": "9ee44ca4",
   "metadata": {},
   "outputs": [],
   "source": [
    "class test:\n",
    "    def __init__(self,a,b,c):\n",
    "        self.a=a\n",
    "        self.b=b\n",
    "        self.c=c\n",
    "class test1(test):\n",
    "    pass\n",
    "u=test(4,5,6)"
   ]
  },
  {
   "cell_type": "code",
   "execution_count": 4,
   "id": "0f1b3641",
   "metadata": {},
   "outputs": [
    {
     "data": {
      "text/plain": [
       "4"
      ]
     },
     "execution_count": 4,
     "metadata": {},
     "output_type": "execute_result"
    }
   ],
   "source": [
    "u.a"
   ]
  },
  {
   "cell_type": "code",
   "execution_count": 5,
   "id": "2cf4ea4b",
   "metadata": {},
   "outputs": [],
   "source": [
    "v=test1(7,8,9)"
   ]
  },
  {
   "cell_type": "code",
   "execution_count": 6,
   "id": "5a059f35",
   "metadata": {},
   "outputs": [
    {
     "data": {
      "text/plain": [
       "7"
      ]
     },
     "execution_count": 6,
     "metadata": {},
     "output_type": "execute_result"
    }
   ],
   "source": [
    "v.a"
   ]
  },
  {
   "cell_type": "code",
   "execution_count": 7,
   "id": "d40be98d",
   "metadata": {},
   "outputs": [],
   "source": [
    "class test:\n",
    "    def __init__(self):\n",
    "        self.a=4\n",
    "class test1(test):\n",
    "    pass"
   ]
  },
  {
   "cell_type": "code",
   "execution_count": 8,
   "id": "9dd8b366",
   "metadata": {},
   "outputs": [],
   "source": [
    "u=test()"
   ]
  },
  {
   "cell_type": "code",
   "execution_count": 9,
   "id": "830746e2",
   "metadata": {},
   "outputs": [
    {
     "data": {
      "text/plain": [
       "4"
      ]
     },
     "execution_count": 9,
     "metadata": {},
     "output_type": "execute_result"
    }
   ],
   "source": [
    "u.a"
   ]
  },
  {
   "cell_type": "code",
   "execution_count": 10,
   "id": "1541df86",
   "metadata": {},
   "outputs": [],
   "source": [
    "v=test1()"
   ]
  },
  {
   "cell_type": "code",
   "execution_count": 11,
   "id": "6c3c6bf1",
   "metadata": {},
   "outputs": [
    {
     "data": {
      "text/plain": [
       "4"
      ]
     },
     "execution_count": 11,
     "metadata": {},
     "output_type": "execute_result"
    }
   ],
   "source": [
    "v.a"
   ]
  },
  {
   "cell_type": "code",
   "execution_count": 13,
   "id": "ec67d033",
   "metadata": {},
   "outputs": [],
   "source": [
    "class test:\n",
    "    def __init__(self):\n",
    "        self.a=4\n",
    "class test1(test):\n",
    "    def __init__(self):\n",
    "        self.a=7\n",
    "u=test()"
   ]
  },
  {
   "cell_type": "code",
   "execution_count": 14,
   "id": "e448251f",
   "metadata": {},
   "outputs": [
    {
     "data": {
      "text/plain": [
       "4"
      ]
     },
     "execution_count": 14,
     "metadata": {},
     "output_type": "execute_result"
    }
   ],
   "source": [
    "u.a"
   ]
  },
  {
   "cell_type": "code",
   "execution_count": 16,
   "id": "6cc4f730",
   "metadata": {},
   "outputs": [],
   "source": [
    "v=test1()"
   ]
  },
  {
   "cell_type": "code",
   "execution_count": 17,
   "id": "fa923452",
   "metadata": {},
   "outputs": [
    {
     "data": {
      "text/plain": [
       "7"
      ]
     },
     "execution_count": 17,
     "metadata": {},
     "output_type": "execute_result"
    }
   ],
   "source": [
    "v.a"
   ]
  },
  {
   "cell_type": "code",
   "execution_count": 4,
   "id": "b23b8fd9",
   "metadata": {},
   "outputs": [],
   "source": [
    "class test:\n",
    "    def __init__(self,a,b,c):\n",
    "        self._a=a\n",
    "        self.__b=b\n",
    "        self.c=c\n",
    "class test1(test):\n",
    "    pass\n",
    "u=test(4,5,6)"
   ]
  },
  {
   "cell_type": "code",
   "execution_count": 6,
   "id": "4952942c",
   "metadata": {},
   "outputs": [
    {
     "data": {
      "text/plain": [
       "4"
      ]
     },
     "execution_count": 6,
     "metadata": {},
     "output_type": "execute_result"
    }
   ],
   "source": [
    "u._a"
   ]
  },
  {
   "cell_type": "code",
   "execution_count": 13,
   "id": "49aa6b76",
   "metadata": {},
   "outputs": [],
   "source": [
    "v=test1(1,2,3)"
   ]
  },
  {
   "cell_type": "code",
   "execution_count": 14,
   "id": "77eda76f",
   "metadata": {},
   "outputs": [
    {
     "data": {
      "text/plain": [
       "5"
      ]
     },
     "execution_count": 14,
     "metadata": {},
     "output_type": "execute_result"
    }
   ],
   "source": [
    "u._test__b"
   ]
  },
  {
   "cell_type": "code",
   "execution_count": 15,
   "id": "38b7defa",
   "metadata": {},
   "outputs": [
    {
     "data": {
      "text/plain": [
       "2"
      ]
     },
     "execution_count": 15,
     "metadata": {},
     "output_type": "execute_result"
    }
   ],
   "source": [
    "v._test__b"
   ]
  },
  {
   "cell_type": "code",
   "execution_count": 52,
   "id": "ae98c2a0",
   "metadata": {},
   "outputs": [],
   "source": [
    "class bonuscalc:\n",
    "    def __init__(self,empid,emprating):\n",
    "        self.empid=empid\n",
    "        self.emprating=emprating\n",
    "        self._empmail=\"hjdhdh\"\n",
    "        self.__bonusforratingA=\"70%\"\n",
    "        self.__bonusforratingB=\"60%\"\n",
    "        self.__bonusforratingC=\"40%\"\n",
    "\n",
    "    def bonuscalc(self):\n",
    "        if self.emprating==\"A\":\n",
    "            bonus=self.__bonusforratingA\n",
    "            return bonus\n",
    "        elif self.emprating==\"B\":\n",
    "            bonus=self.__bonusforratingB\n",
    "            return bonus\n",
    "        else:\n",
    "            bonus=self.__bonusforratingC\n",
    "            return bonus"
   ]
  },
  {
   "cell_type": "code",
   "execution_count": 53,
   "id": "13500171",
   "metadata": {},
   "outputs": [],
   "source": [
    "emp1=bonuscalc(101,\"A\")\n",
    "emp2=bonuscalc(102,\"B\")\n",
    "emp3=bonuscalc(103,\"C\")"
   ]
  },
  {
   "cell_type": "code",
   "execution_count": 54,
   "id": "a8c0840a",
   "metadata": {},
   "outputs": [
    {
     "data": {
      "text/plain": [
       "'70%'"
      ]
     },
     "execution_count": 54,
     "metadata": {},
     "output_type": "execute_result"
    }
   ],
   "source": [
    "emp1.bonuscalc()"
   ]
  },
  {
   "cell_type": "code",
   "execution_count": 55,
   "id": "c05635ba",
   "metadata": {},
   "outputs": [
    {
     "data": {
      "text/plain": [
       "'60%'"
      ]
     },
     "execution_count": 55,
     "metadata": {},
     "output_type": "execute_result"
    }
   ],
   "source": [
    "emp2.bonuscalc()"
   ]
  },
  {
   "cell_type": "code",
   "execution_count": 56,
   "id": "ed8f1127",
   "metadata": {},
   "outputs": [
    {
     "data": {
      "text/plain": [
       "'40%'"
      ]
     },
     "execution_count": 56,
     "metadata": {},
     "output_type": "execute_result"
    }
   ],
   "source": [
    "emp3.bonuscalc()"
   ]
  },
  {
   "cell_type": "code",
   "execution_count": 57,
   "id": "2324e8d0",
   "metadata": {},
   "outputs": [],
   "source": [
    "emp1.empid=104"
   ]
  },
  {
   "cell_type": "code",
   "execution_count": 58,
   "id": "deff5112",
   "metadata": {},
   "outputs": [
    {
     "data": {
      "text/plain": [
       "104"
      ]
     },
     "execution_count": 58,
     "metadata": {},
     "output_type": "execute_result"
    }
   ],
   "source": [
    "emp1.empid"
   ]
  },
  {
   "cell_type": "code",
   "execution_count": 59,
   "id": "3ff31c7b",
   "metadata": {},
   "outputs": [],
   "source": [
    "emp1.emprating=\"B\""
   ]
  },
  {
   "cell_type": "code",
   "execution_count": 60,
   "id": "f580b86b",
   "metadata": {},
   "outputs": [
    {
     "data": {
      "text/plain": [
       "'60%'"
      ]
     },
     "execution_count": 60,
     "metadata": {},
     "output_type": "execute_result"
    }
   ],
   "source": [
    "emp1.bonuscalc()"
   ]
  },
  {
   "cell_type": "code",
   "execution_count": 61,
   "id": "3c62f0a5",
   "metadata": {},
   "outputs": [],
   "source": [
    "emp1.__bonusratingB=\"90%\""
   ]
  },
  {
   "cell_type": "code",
   "execution_count": 62,
   "id": "a3c9bc57",
   "metadata": {},
   "outputs": [
    {
     "data": {
      "text/plain": [
       "'60%'"
      ]
     },
     "execution_count": 62,
     "metadata": {},
     "output_type": "execute_result"
    }
   ],
   "source": [
    "emp1.bonuscalc()"
   ]
  },
  {
   "cell_type": "code",
   "execution_count": 63,
   "id": "ac9dae3b",
   "metadata": {},
   "outputs": [
    {
     "data": {
      "text/plain": [
       "'B'"
      ]
     },
     "execution_count": 63,
     "metadata": {},
     "output_type": "execute_result"
    }
   ],
   "source": [
    "emp2.emprating"
   ]
  },
  {
   "cell_type": "code",
   "execution_count": 64,
   "id": "bd30dc7c",
   "metadata": {},
   "outputs": [
    {
     "data": {
      "text/plain": [
       "'60%'"
      ]
     },
     "execution_count": 64,
     "metadata": {},
     "output_type": "execute_result"
    }
   ],
   "source": [
    "emp2.bonuscalc()"
   ]
  },
  {
   "cell_type": "code",
   "execution_count": 65,
   "id": "d0bfa7bc",
   "metadata": {},
   "outputs": [],
   "source": [
    "emp2.bonusratingB=\"100%\""
   ]
  },
  {
   "cell_type": "code",
   "execution_count": 66,
   "id": "0aa263ba",
   "metadata": {},
   "outputs": [
    {
     "data": {
      "text/plain": [
       "'60%'"
      ]
     },
     "execution_count": 66,
     "metadata": {},
     "output_type": "execute_result"
    }
   ],
   "source": [
    "emp2.bonuscalc()"
   ]
  },
  {
   "cell_type": "code",
   "execution_count": 67,
   "id": "ac1a078b",
   "metadata": {},
   "outputs": [],
   "source": [
    "# if the variable is a private variable even with the help of class object you cannot the the values of the variables"
   ]
  },
  {
   "cell_type": "code",
   "execution_count": 68,
   "id": "dc284dee",
   "metadata": {},
   "outputs": [],
   "source": [
    "emp2.empid=6383"
   ]
  },
  {
   "cell_type": "code",
   "execution_count": 69,
   "id": "994dfc1e",
   "metadata": {},
   "outputs": [],
   "source": [
    "emp2.__bonusratingB=\"hfjdsf\""
   ]
  },
  {
   "cell_type": "code",
   "execution_count": 70,
   "id": "8e5e13d4",
   "metadata": {},
   "outputs": [
    {
     "data": {
      "text/plain": [
       "'60%'"
      ]
     },
     "execution_count": 70,
     "metadata": {},
     "output_type": "execute_result"
    }
   ],
   "source": [
    "emp2._bonuscalc__bonusforratingB"
   ]
  },
  {
   "cell_type": "code",
   "execution_count": 71,
   "id": "f937cb2f",
   "metadata": {},
   "outputs": [],
   "source": [
    "emp2._bonuscalc__bonusforratingB=\"528352\""
   ]
  },
  {
   "cell_type": "code",
   "execution_count": 72,
   "id": "1cbaeef5",
   "metadata": {},
   "outputs": [
    {
     "data": {
      "text/plain": [
       "'528352'"
      ]
     },
     "execution_count": 72,
     "metadata": {},
     "output_type": "execute_result"
    }
   ],
   "source": [
    "emp2._bonuscalc__bonusforratingB"
   ]
  },
  {
   "cell_type": "code",
   "execution_count": 73,
   "id": "b93252fe",
   "metadata": {},
   "outputs": [],
   "source": [
    "emp1._empmail=\"dheej\""
   ]
  },
  {
   "cell_type": "code",
   "execution_count": 74,
   "id": "737a9744",
   "metadata": {},
   "outputs": [
    {
     "data": {
      "text/plain": [
       "'dheej'"
      ]
     },
     "execution_count": 74,
     "metadata": {},
     "output_type": "execute_result"
    }
   ],
   "source": [
    "emp1._empmail"
   ]
  },
  {
   "cell_type": "code",
   "execution_count": null,
   "id": "1372cf71",
   "metadata": {},
   "outputs": [],
   "source": []
  }
 ],
 "metadata": {
  "kernelspec": {
   "display_name": "Python 3 (ipykernel)",
   "language": "python",
   "name": "python3"
  },
  "language_info": {
   "codemirror_mode": {
    "name": "ipython",
    "version": 3
   },
   "file_extension": ".py",
   "mimetype": "text/x-python",
   "name": "python",
   "nbconvert_exporter": "python",
   "pygments_lexer": "ipython3",
   "version": "3.10.4"
  }
 },
 "nbformat": 4,
 "nbformat_minor": 5
}
